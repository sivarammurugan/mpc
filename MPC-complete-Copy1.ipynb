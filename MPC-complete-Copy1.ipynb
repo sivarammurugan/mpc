{
 "cells": [
  {
   "cell_type": "code",
   "execution_count": 3,
   "metadata": {
    "collapsed": false
   },
   "outputs": [],
   "source": [
    "import numpy as np\n",
    "import scipy.signal\n",
    "import scipy.optimize\n",
    "import matplotlib.pyplot as plt\n",
    "import control\n",
    "%matplotlib inline\n"
   ]
  },
  {
   "cell_type": "markdown",
   "metadata": {},
   "source": [
    "We start with a linear model of the system"
   ]
  },
  {
   "cell_type": "code",
   "execution_count": 4,
   "metadata": {
    "collapsed": false
   },
   "outputs": [],
   "source": [
    "nMV = 2\n",
    "nCV = 2\n",
    "G11 = scipy.signal.lti([-10.0], [20.0, 1]) # reflux to top , first digit indicates CV and second dight indicates MV\n",
    "G21 = scipy.signal.lti([-5.0], [50.0,1]) # reflux to bottom \n",
    "G12 = scipy.signal.lti([3.0],[7.0,1]) # reboiler to top\n",
    "G22 = scipy.signal.lti([2.0],[5.0,1]) # reboiler to bottom.\n",
    "K = np.array([-10.0,3.0,-5.0,2.0]).reshape(2,2) # MVs are across the columns, CVs across the rows\n"
   ]
  },
  {
   "cell_type": "code",
   "execution_count": 5,
   "metadata": {
    "collapsed": true
   },
   "outputs": [],
   "source": [
    "M = 80  # Control horizon\n",
    "P = 150  # Prediction horizon"
   ]
  },
  {
   "cell_type": "markdown",
   "metadata": {},
   "source": [
    "reshape(-1,1) changes the array shape from horizontal to vertical"
   ]
  },
  {
   "cell_type": "code",
   "execution_count": 6,
   "metadata": {
    "collapsed": false
   },
   "outputs": [],
   "source": [
    "ABSU = np.array([50,2000]).reshape(-1,1)\n",
    "U= np.ones(nMV).reshape(-1,1) # initial move \n",
    "ABSY0 = np.array([80,100]).reshape(-1,1) # initial value of top purity and bottom temp\n",
    "ABSYSP = np.array([82,104]).reshape(-1,1) # desired target entered by the user. \n",
    "YSP = (ABSYSP -ABSY0).reshape(-1,1) # desired deviation \n"
   ]
  },
  {
   "cell_type": "code",
   "execution_count": 7,
   "metadata": {
    "collapsed": true
   },
   "outputs": [],
   "source": [
    "Q= np.array([1,2])#.reshape(-1,1) # CV Weight \n",
    "R= np.array([0.1,0.1])#.reshape(-1,1) # MV Weight "
   ]
  },
  {
   "cell_type": "markdown",
   "metadata": {},
   "source": [
    "### steady state solver\n",
    "- this since this control problem is feasible , it can be solved algebraically. There is no need for steady state optimization."
   ]
  },
  {
   "cell_type": "code",
   "execution_count": 8,
   "metadata": {
    "collapsed": false
   },
   "outputs": [
    {
     "data": {
      "text/plain": [
       "array([[ 1.6],\n",
       "       [ 6. ]])"
      ]
     },
     "execution_count": 8,
     "metadata": {},
     "output_type": "execute_result"
    }
   ],
   "source": [
    "#try linear algebra to solve the steady state \n",
    "from scipy import linalg\n",
    "USS = linalg.solve(K,YSP)\n",
    "YSS = YSP\n",
    "USS"
   ]
  },
  {
   "cell_type": "markdown",
   "metadata": {},
   "source": [
    "### move plan optimization (Dynamic optimization)"
   ]
  },
  {
   "cell_type": "code",
   "execution_count": 11,
   "metadata": {
    "collapsed": false
   },
   "outputs": [],
   "source": [
    "#u = USS*np.ones(M) # u is an array of length  M ( control horizon ) , that holds the MV move plan , initially set to the steady state move\n",
    "u = np.zeros((nMV,M))\n",
    "yref = np.tile(YSS,P) # reference trajectory\n"
   ]
  },
  {
   "cell_type": "code",
   "execution_count": 12,
   "metadata": {
    "collapsed": false
   },
   "outputs": [],
   "source": [
    "# this function repeats holds the last move of the controller steady , from the control horizaon to prediction horizon \n",
    "# as after control horizon, the MV will not move. \n",
    "def extend(uf):\n",
    "    #uf1 = uf.reshape(nMV,-1) # this step is required because , scipy optimize can return only  flattened arrays, which should be\n",
    "    # \"folded back\" to proper shape.\n",
    "    \n",
    "    \n",
    "    ext = np.tile(uf[:,[-1]],(P-M))\n",
    "    return np.hstack((uf,ext))\n"
   ]
  },
  {
   "cell_type": "code",
   "execution_count": 17,
   "metadata": {
    "collapsed": false
   },
   "outputs": [
    {
     "data": {
      "text/plain": [
       "array([[-0.02]])"
      ]
     },
     "execution_count": 17,
     "metadata": {},
     "output_type": "execute_result"
    }
   ],
   "source": [
    "G21.A"
   ]
  },
  {
   "cell_type": "code",
   "execution_count": 12,
   "metadata": {
    "collapsed": false
   },
   "outputs": [
    {
     "data": {
      "text/plain": [
       "4"
      ]
     },
     "execution_count": 12,
     "metadata": {},
     "output_type": "execute_result"
    }
   ],
   "source": [
    "\n",
    "A = np.diag([-0.05,-0.02,-0.2,-0.1429])\n",
    "A.shape[1]\n",
    "\n"
   ]
  },
  {
   "cell_type": "code",
   "execution_count": 13,
   "metadata": {
    "collapsed": false
   },
   "outputs": [
    {
     "data": {
      "text/plain": [
       "(2, 4)"
      ]
     },
     "execution_count": 13,
     "metadata": {},
     "output_type": "execute_result"
    }
   ],
   "source": [
    "B = np.array([[0.5,0],[0.25,0],[0,0.5],[0,0.5]])\n",
    "C = np.array([[-1,0,0.8,0],[0,-0.4,0,0.8571]])\n",
    "x = np.zeros((A.shape[1],1))\n",
    "C.shape"
   ]
  },
  {
   "cell_type": "code",
   "execution_count": 14,
   "metadata": {
    "collapsed": false
   },
   "outputs": [],
   "source": [
    "#the predictions should be based on the delta MVs  \n",
    "def prediction(u):\n",
    "    ts = np.linspace(0, P, P)\n",
    "    dt = ts[1]\n",
    "    x = np.zeros((A.shape[1],1)) # state vector\n",
    "    ys = np.zeros((nCV,P)) # prediction matrix\n",
    "    dxdt = np.zeros((A.shape[1],1)) # alwasn initialize the arrays. \n",
    "    \n",
    "    deltau = np.hstack((u[:,[0]] ,np.diff(u)))\n",
    "    \n",
    "    for i,t in enumerate(ts):\n",
    "        dxdt = A.dot(x)+B.dot((deltau[:,[i]]))\n",
    "        x = x + dxdt*dt\n",
    "        y = C.dot(x) # output vector\n",
    "        \n",
    "        ys[:,i] = y[:,0] # this assigns the ith column of a numpy array to another vect\n",
    "    #print(ys)\n",
    "    return ys\n"
   ]
  },
  {
   "cell_type": "markdown",
   "metadata": {
    "collapsed": false
   },
   "source": [
    "note: the np.diff function starts differencing from second element ( to the first element ) . however, we need to include the first element of the input array for penalization . hence the vstack functino is used to add the first column for penalization"
   ]
  },
  {
   "cell_type": "markdown",
   "metadata": {},
   "source": [
    "### unconstrained optimization"
   ]
  },
  {
   "cell_type": "code",
   "execution_count": 45,
   "metadata": {
    "collapsed": false
   },
   "outputs": [],
   "source": [
    "def objective(u):\n",
    "    #ypred = np.empty((nCV,P)) # can be deleted , i think,\n",
    "    \n",
    "    \n",
    "    ur = u.reshape((nMV,-1))\n",
    "    #du = np.hstack((ur[:,[0]] ,np.diff(ur)))\n",
    "    \n",
    "    eu = np.hstack((ur,np.tile(ur[:,[-1]],(P-M))))\n",
    "    ypred = prediction(eu)\n",
    "    \n",
    "    du = np.hstack((eu[:,[0]] ,np.diff(eu)))\n",
    "        \n",
    "    #YC = np.vstack((YC1,YC2)) # note the one argument given within double brackets.\n",
    "    obj = np.sum(np.dot(np.square(ypred-yref).T,Q)) + np.sum(np.dot(np.square(du.T),R))\n",
    "    #obj = np.sum((Q*(ypred-yref))**2)+np.sum(du**2*R)\n",
    "    #print(obj)\n",
    "    return obj"
   ]
  },
  {
   "cell_type": "markdown",
   "metadata": {},
   "source": [
    "we notice that  during dynamic optimization , the  \"u\" calculated is different than the steady state optimization .\n",
    "it is because , the steady state targets of u are not enforced in dynamic optimization. In order to enforce this , we should include this as a equality constraint in the scipy optimization function.  "
   ]
  },
  {
   "cell_type": "code",
   "execution_count": 16,
   "metadata": {
    "collapsed": true
   },
   "outputs": [],
   "source": [
    "cons = ({'type': 'eq', 'fun': lambda x: np.sum(x[0])-1.6}, {'type':'eq','fun': lambda x:  np.sum(x[1]) - 6})\n",
    "    \n",
    "    "
   ]
  },
  {
   "cell_type": "code",
   "execution_count": 59,
   "metadata": {
    "collapsed": true
   },
   "outputs": [],
   "source": [
    "def mvConstraints(u):\n",
    "    ur = u.reshape((nMV,-1))\n",
    "    deltau = np.hstack((ur[:,[0]] ,np.diff(ur)))\n",
    "    return np.sum(deltau,axis=1),deltau\n",
    "    \n",
    "    "
   ]
  },
  {
   "cell_type": "code",
   "execution_count": 56,
   "metadata": {
    "collapsed": false
   },
   "outputs": [],
   "source": [
    "cons1 = ({'type': 'eq', 'fun': lambda u: mvConstraints(u)[0][0]-1.6}, {'type':'eq','fun': lambda u: mvConstraints(u)[0][1] - 6}\n",
    "          \n",
    "         {'type':'ineq','fun':lambda u:mvConstrains(u)[1]})"
   ]
  },
  {
   "cell_type": "markdown",
   "metadata": {
    "collapsed": true
   },
   "source": [
    "### things to do\n",
    "1. develop a steadystate solver that calculates the steady state targets\n",
    "inputs:\n",
    "    . model\n",
    "    . initial conditions of MV \n",
    "    . initial conditions of CVs\n",
    "    . CV targets. \n",
    "    . CV priorities. \n",
    "    . CV Weights. \n",
    "  ouputs\n",
    "  . CV targets\n",
    "  . MV Targets\n",
    " 2. devleop constrained optimizer.  ( max move constraints, vavle position constraints)\n",
    " 3. estimate state using kalman \n",
    " \n",
    " \n",
    " Flow chart \n",
    " 1. calculate the set of optimal moves \n",
    " 2. implement the first move\n",
    " 3. implement the state estimator \n",
    " 4. update the predictions, calculate the new set of moves\n",
    " 5."
   ]
  },
  {
   "cell_type": "markdown",
   "metadata": {},
   "source": [
    "It looks like , still the dynamic optimization for the inputs U still does not match with the steady state optimization prediction "
   ]
  },
  {
   "cell_type": "code",
   "execution_count": 60,
   "metadata": {
    "collapsed": false
   },
   "outputs": [],
   "source": [
    "uoptqp = scipy.optimize.minimize(objective,u, constraints = cons1 ,method='SLSQP').x"
   ]
  },
  {
   "cell_type": "code",
   "execution_count": 61,
   "metadata": {
    "collapsed": false
   },
   "outputs": [],
   "source": [
    "uoptqppro = uoptqp.reshape((nMV,-1))"
   ]
  },
  {
   "cell_type": "code",
   "execution_count": 62,
   "metadata": {
    "collapsed": false
   },
   "outputs": [
    {
     "data": {
      "text/plain": [
       "array([[-0.43863229, -0.57573407, -0.64255834, -0.68618831, -0.72026514,\n",
       "        -0.74956356, -0.77648918, -0.80217702, -0.82695721, -0.85095955,\n",
       "        -0.87411502, -0.89666707, -0.91839752, -0.93931659, -0.95959915,\n",
       "        -0.97933942, -0.99812302, -1.01636155, -1.03388285, -1.05076887,\n",
       "        -1.06686284, -1.08216896, -1.09668981, -1.11058158, -1.12347712,\n",
       "        -1.13564637, -1.14705644, -1.15768089, -1.16748446, -1.17638244,\n",
       "        -1.18439812, -1.19150108, -1.19779676, -1.20306481, -1.20730937,\n",
       "        -1.21081507, -1.21319712, -1.21476152, -1.21509759, -1.21464837,\n",
       "        -1.21301918, -1.21023136, -1.20652332, -1.20165914, -1.19556913,\n",
       "        -1.18838357, -1.18001468, -1.17053891, -1.15979645, -1.14781429,\n",
       "        -1.13461386, -1.12013509, -1.10440584, -1.08743089, -1.06904836,\n",
       "        -1.04948555, -1.0285172 , -1.00630681, -0.98260793, -0.95757237,\n",
       "        -0.93117824, -0.90361521, -0.87457123, -0.84435546, -0.81275676,\n",
       "        -0.78019417, -0.74624125, -0.7114403 , -0.67644676, -0.6410902 ,\n",
       "        -0.60485911, -0.56752783, -0.52960093, -0.49033578, -0.44463881,\n",
       "        -0.38091208, -0.27040547, -0.03848566,  0.49049193,  1.6       ],\n",
       "       [ 0.19367208,  0.19633383,  0.19979114,  0.21074163,  0.22558862,\n",
       "         0.24241639,  0.26013518,  0.27843604,  0.29674066,  0.31547442,\n",
       "         0.33448818,  0.35383144,  0.37360984,  0.39372736,  0.41432615,\n",
       "         0.43520222,  0.45663439,  0.47873018,  0.50123906,  0.52418835,\n",
       "         0.54784887,  0.57201971,  0.5970745 ,  0.62257505,  0.64900794,\n",
       "         0.67609356,  0.7039812 ,  0.73270929,  0.76218753,  0.79267359,\n",
       "         0.8239955 ,  0.85626971,  0.88955351,  0.92387803,  0.95920843,\n",
       "         0.99564663,  1.03325705,  1.07203871,  1.11186536,  1.15294524,\n",
       "         1.1954113 ,  1.23914692,  1.28421163,  1.33059724,  1.3784134 ,\n",
       "         1.42773096,  1.47846458,  1.53079672,  1.58465308,  1.64009183,\n",
       "         1.69707687,  1.75584768,  1.8161707 ,  1.87833677,  1.9422725 ,\n",
       "         2.00793366,  2.07532504,  2.14484522,  2.2160771 ,  2.28917321,\n",
       "         2.36417139,  2.44100832,  2.51960346,  2.6001325 ,  2.68204657,\n",
       "         2.76618831,  2.85128719,  2.93786858,  3.02586739,  3.11426304,\n",
       "         3.20333362,  3.29309295,  3.38300527,  3.47327401,  3.56689764,\n",
       "         3.67136531,  3.8070423 ,  4.03082167,  4.51832875,  6.        ]])"
      ]
     },
     "execution_count": 62,
     "metadata": {},
     "output_type": "execute_result"
    }
   ],
   "source": [
    "uoptqppro"
   ]
  },
  {
   "cell_type": "code",
   "execution_count": 22,
   "metadata": {
    "collapsed": false
   },
   "outputs": [
    {
     "data": {
      "text/plain": [
       "array([ 1.6,  6. ])"
      ]
     },
     "execution_count": 22,
     "metadata": {},
     "output_type": "execute_result"
    }
   ],
   "source": [
    "np.sum(np.hstack((uoptqppro[:,[0]],np.diff(uoptqppro))),axis=1)"
   ]
  },
  {
   "cell_type": "code",
   "execution_count": 51,
   "metadata": {
    "collapsed": false
   },
   "outputs": [
    {
     "data": {
      "text/plain": [
       "[<matplotlib.lines.Line2D at 0x1de0dbb8390>]"
      ]
     },
     "execution_count": 51,
     "metadata": {},
     "output_type": "execute_result"
    },
    {
     "data": {
      "image/png": "[encoded data removed]",
      "text/plain": [
       "<matplotlib.figure.Figure at 0x1de0d1a0b00>"
      ]
     },
     "metadata": {},
     "output_type": "display_data"
    }
   ],
   "source": [
    "plt.plot(uoptqppro[0])"
   ]
  },
  {
   "cell_type": "code",
   "execution_count": 52,
   "metadata": {
    "collapsed": false
   },
   "outputs": [
    {
     "data": {
      "text/plain": [
       "[<matplotlib.lines.Line2D at 0x1de0dc17438>]"
      ]
     },
     "execution_count": 52,
     "metadata": {},
     "output_type": "execute_result"
    },
    {
     "data": {
      "image/png": "[encoded data removed]",
      "text/plain": [
       "<matplotlib.figure.Figure at 0x1de0db88550>"
      ]
     },
     "metadata": {},
     "output_type": "display_data"
    }
   ],
   "source": [
    "plt.plot(uoptqppro[1])"
   ]
  },
  {
   "cell_type": "code",
   "execution_count": 53,
   "metadata": {
    "collapsed": false
   },
   "outputs": [],
   "source": [
    "ypred = prediction(extend(uoptqppro))"
   ]
  },
  {
   "cell_type": "code",
   "execution_count": 54,
   "metadata": {
    "collapsed": false
   },
   "outputs": [
    {
     "data": {
      "text/plain": [
       "[<matplotlib.lines.Line2D at 0x1de0d4a3320>]"
      ]
     },
     "execution_count": 54,
     "metadata": {},
     "output_type": "execute_result"
    },
    {
     "data": {
      "image/png": "[encoded data removed]",
      "text/plain": [
       "<matplotlib.figure.Figure at 0x1de0d42eef0>"
      ]
     },
     "metadata": {},
     "output_type": "display_data"
    }
   ],
   "source": [
    "plt.plot(ypred[0])"
   ]
  },
  {
   "cell_type": "code",
   "execution_count": 55,
   "metadata": {
    "collapsed": false
   },
   "outputs": [
    {
     "data": {
      "text/plain": [
       "[<matplotlib.lines.Line2D at 0x1de0d531780>]"
      ]
     },
     "execution_count": 55,
     "metadata": {},
     "output_type": "execute_result"
    },
    {
     "data": {
      "image/png": "[encoded data removed]",
      "text/plain": [
       "<matplotlib.figure.Figure at 0x1de0d4b9630>"
      ]
     },
     "metadata": {},
     "output_type": "display_data"
    }
   ],
   "source": [
    "plt.plot(ypred[1])"
   ]
  },
  {
   "cell_type": "markdown",
   "metadata": {},
   "source": [
    "i think , because we dont have max move constraints , the solver just smoothly changes the \"u\" until the last move , and then finally just jumps to much bigger value at last "
   ]
  },
  {
   "cell_type": "code",
   "execution_count": 28,
   "metadata": {
    "collapsed": true
   },
   "outputs": [],
   "source": [
    "ts = np.linspace(0, P, P)\n",
    "dt = ts[1]\n",
    "x = np.zeros((A.shape[1],1)) # state vector\n",
    "ys = np.zeros((nCV,P)) # prediction matrix\n",
    "dxdt = np.zeros((A.shape[1],1)) # alwasn initialize the arrays. \n",
    "    \n",
    "deltau = np.hstack((uoptqppro[:,[0]] ,np.diff(uoptqppro)))"
   ]
  },
  {
   "cell_type": "code",
   "execution_count": 29,
   "metadata": {
    "collapsed": true
   },
   "outputs": [],
   "source": [
    "dxdt = A.dot(x)+B.dot((deltau[:,[0]]))\n",
    "y = C.dot(x)"
   ]
  },
  {
   "cell_type": "code",
   "execution_count": 30,
   "metadata": {
    "collapsed": false
   },
   "outputs": [
    {
     "data": {
      "text/plain": [
       "array([[  2.43387522,   4.92277153,   7.48094872,  10.13167018,\n",
       "         12.85609467,  15.63042383,  18.45762098,  21.35280173,\n",
       "         24.25873115,  27.11071502,  29.81773883,  32.30970035,\n",
       "         34.57350939,  36.62026432,  38.50078373,  40.25233411,\n",
       "         41.90239327,  43.45347906,  44.93020669,  46.31361913,\n",
       "         47.60213701,  48.78882691,  49.86438019,  50.81997055,\n",
       "         51.65642741,  52.37860754,  52.9983474 ,  53.53543106,\n",
       "         54.02546682,  54.52141004,  55.08394121,  55.76007473,\n",
       "         56.56094606,  57.41021473,  58.17334446,  58.68783578,\n",
       "         58.85765035,  58.72588473,  58.47322443,  58.3050058 ,\n",
       "         58.30128527,  58.34883568,  58.22948895,  57.83698451,\n",
       "         57.27477457,  56.78308502,  56.49718761,  56.30969163,\n",
       "         55.99026244,  55.45236723,  54.85078611,  54.3978268 ,\n",
       "         54.09586105,  53.70582898,  52.99602438,  51.9650764 ,\n",
       "         50.7907164 ,  49.60993966,  48.40728999,  47.14241832,\n",
       "         45.8534312 ,  44.59136398,  43.3179381 ,  41.91579306,\n",
       "         40.34855841,  38.67579988,  36.97726231,  35.23238378,\n",
       "         33.41874267,  31.54087297,  29.66249274,  27.80304419,\n",
       "         25.94604197,  24.12090821,  22.34102241,  20.6859375 ,\n",
       "         19.15330148,  17.81064869,  16.70520622,   1.6       ,\n",
       "          1.6       ,   1.6       ,   1.6       ,   1.6       ,\n",
       "          1.6       ,   1.6       ,   1.6       ,   1.6       ,\n",
       "          1.6       ,   1.6       ,   1.6       ,   1.6       ,\n",
       "          1.6       ,   1.6       ,   1.6       ,   1.6       ,\n",
       "          1.6       ,   1.6       ,   1.6       ,   1.6       ,\n",
       "          1.6       ,   1.6       ,   1.6       ,   1.6       ,\n",
       "          1.6       ,   1.6       ,   1.6       ,   1.6       ,\n",
       "          1.6       ,   1.6       ,   1.6       ,   1.6       ,\n",
       "          1.6       ,   1.6       ,   1.6       ,   1.6       ,\n",
       "          1.6       ,   1.6       ,   1.6       ,   1.6       ,\n",
       "          1.6       ,   1.6       ,   1.6       ,   1.6       ,\n",
       "          1.6       ,   1.6       ,   1.6       ,   1.6       ,\n",
       "          1.6       ,   1.6       ,   1.6       ,   1.6       ,\n",
       "          1.6       ,   1.6       ,   1.6       ,   1.6       ,\n",
       "          1.6       ,   1.6       ,   1.6       ,   1.6       ,\n",
       "          1.6       ,   1.6       ,   1.6       ,   1.6       ,\n",
       "          1.6       ,   1.6       ,   1.6       ,   1.6       ,\n",
       "          1.6       ,   1.6       ],\n",
       "       [ -0.27611552,  -0.55154789,  -0.80279425,  -1.07076556,\n",
       "         -1.34114177,  -1.57391203,  -1.7482453 ,  -1.89931062,\n",
       "         -2.01682085,  -2.16523729,  -2.39282865,  -2.74523528,\n",
       "         -3.26975371,  -3.96662252,  -4.841813  ,  -5.86797616,\n",
       "         -7.01641279,  -8.24507707,  -9.57757911, -10.98543462,\n",
       "        -12.47986584, -14.06875898, -15.75732216, -17.54857902,\n",
       "        -19.45950858, -21.50153856, -23.6817646 , -25.99086712,\n",
       "        -28.40155379, -30.87359618, -33.35012429, -35.77546892,\n",
       "        -38.1327147 , -40.42623069, -42.73104937, -45.13971785,\n",
       "        -47.7172894 , -50.44732347, -53.23176962, -55.93718047,\n",
       "        -58.49343526, -60.94767739, -63.41409776, -65.97935877,\n",
       "        -68.57866912, -71.06105285, -73.31785737, -75.38130149,\n",
       "        -77.36767764, -79.33075997, -81.1720952 , -82.74278664,\n",
       "        -84.01094522, -85.09784473, -86.14596276, -87.1641744 ,\n",
       "        -88.03973802, -88.68039193, -89.0616683 , -89.19406763,\n",
       "        -89.03742339, -88.52951292, -87.67090624, -86.50811002,\n",
       "        -85.04778432, -83.23673467, -80.99846097, -78.3127964 ,\n",
       "        -75.16057009, -71.50654168, -67.27512258, -62.40785947,\n",
       "        -56.86514894, -50.57395334, -43.46446426, -35.41725502,\n",
       "        -26.34813228, -16.12519534,  -4.60201787,   6.        ,\n",
       "          6.        ,   6.        ,   6.        ,   6.        ,\n",
       "          6.        ,   6.        ,   6.        ,   6.        ,\n",
       "          6.        ,   6.        ,   6.        ,   6.        ,\n",
       "          6.        ,   6.        ,   6.        ,   6.        ,\n",
       "          6.        ,   6.        ,   6.        ,   6.        ,\n",
       "          6.        ,   6.        ,   6.        ,   6.        ,\n",
       "          6.        ,   6.        ,   6.        ,   6.        ,\n",
       "          6.        ,   6.        ,   6.        ,   6.        ,\n",
       "          6.        ,   6.        ,   6.        ,   6.        ,\n",
       "          6.        ,   6.        ,   6.        ,   6.        ,\n",
       "          6.        ,   6.        ,   6.        ,   6.        ,\n",
       "          6.        ,   6.        ,   6.        ,   6.        ,\n",
       "          6.        ,   6.        ,   6.        ,   6.        ,\n",
       "          6.        ,   6.        ,   6.        ,   6.        ,\n",
       "          6.        ,   6.        ,   6.        ,   6.        ,\n",
       "          6.        ,   6.        ,   6.        ,   6.        ,\n",
       "          6.        ,   6.        ,   6.        ,   6.        ,\n",
       "          6.        ,   6.        ]])"
      ]
     },
     "execution_count": 30,
     "metadata": {},
     "output_type": "execute_result"
    }
   ],
   "source": [
    "extend(uoptqppro)"
   ]
  },
  {
   "cell_type": "code",
   "execution_count": 31,
   "metadata": {
    "collapsed": false
   },
   "outputs": [
    {
     "data": {
      "text/plain": [
       "array([[  2.43387522,   4.92277153,   7.48094872,  10.13167018,\n",
       "         12.85609467,  15.63042383,  18.45762098,  21.35280173,\n",
       "         24.25873115,  27.11071502,  29.81773883,  32.30970035,\n",
       "         34.57350939,  36.62026432,  38.50078373,  40.25233411,\n",
       "         41.90239327,  43.45347906,  44.93020669,  46.31361913,\n",
       "         47.60213701,  48.78882691,  49.86438019,  50.81997055,\n",
       "         51.65642741,  52.37860754,  52.9983474 ,  53.53543106,\n",
       "         54.02546682,  54.52141004,  55.08394121,  55.76007473,\n",
       "         56.56094606,  57.41021473,  58.17334446,  58.68783578,\n",
       "         58.85765035,  58.72588473,  58.47322443,  58.3050058 ,\n",
       "         58.30128527,  58.34883568,  58.22948895,  57.83698451,\n",
       "         57.27477457,  56.78308502,  56.49718761,  56.30969163,\n",
       "         55.99026244,  55.45236723,  54.85078611,  54.3978268 ,\n",
       "         54.09586105,  53.70582898,  52.99602438,  51.9650764 ,\n",
       "         50.7907164 ,  49.60993966,  48.40728999,  47.14241832,\n",
       "         45.8534312 ,  44.59136398,  43.3179381 ,  41.91579306,\n",
       "         40.34855841,  38.67579988,  36.97726231,  35.23238378,\n",
       "         33.41874267,  31.54087297,  29.66249274,  27.80304419,\n",
       "         25.94604197,  24.12090821,  22.34102241,  20.6859375 ,\n",
       "         19.15330148,  17.81064869,  16.70520622,   1.6       ],\n",
       "       [ -0.27611552,  -0.55154789,  -0.80279425,  -1.07076556,\n",
       "         -1.34114177,  -1.57391203,  -1.7482453 ,  -1.89931062,\n",
       "         -2.01682085,  -2.16523729,  -2.39282865,  -2.74523528,\n",
       "         -3.26975371,  -3.96662252,  -4.841813  ,  -5.86797616,\n",
       "         -7.01641279,  -8.24507707,  -9.57757911, -10.98543462,\n",
       "        -12.47986584, -14.06875898, -15.75732216, -17.54857902,\n",
       "        -19.45950858, -21.50153856, -23.6817646 , -25.99086712,\n",
       "        -28.40155379, -30.87359618, -33.35012429, -35.77546892,\n",
       "        -38.1327147 , -40.42623069, -42.73104937, -45.13971785,\n",
       "        -47.7172894 , -50.44732347, -53.23176962, -55.93718047,\n",
       "        -58.49343526, -60.94767739, -63.41409776, -65.97935877,\n",
       "        -68.57866912, -71.06105285, -73.31785737, -75.38130149,\n",
       "        -77.36767764, -79.33075997, -81.1720952 , -82.74278664,\n",
       "        -84.01094522, -85.09784473, -86.14596276, -87.1641744 ,\n",
       "        -88.03973802, -88.68039193, -89.0616683 , -89.19406763,\n",
       "        -89.03742339, -88.52951292, -87.67090624, -86.50811002,\n",
       "        -85.04778432, -83.23673467, -80.99846097, -78.3127964 ,\n",
       "        -75.16057009, -71.50654168, -67.27512258, -62.40785947,\n",
       "        -56.86514894, -50.57395334, -43.46446426, -35.41725502,\n",
       "        -26.34813228, -16.12519534,  -4.60201787,   6.        ]])"
      ]
     },
     "execution_count": 31,
     "metadata": {},
     "output_type": "execute_result"
    }
   ],
   "source": [
    "uoptqppro"
   ]
  },
  {
   "cell_type": "code",
   "execution_count": 32,
   "metadata": {
    "collapsed": false
   },
   "outputs": [
    {
     "data": {
      "text/plain": [
       "array([[  2.43387522,   4.92277153,   7.48094872,  10.13167018,\n",
       "         12.85609467,  15.63042383,  18.45762098,  21.35280173,\n",
       "         24.25873115,  27.11071502,  29.81773883,  32.30970035,\n",
       "         34.57350939,  36.62026432,  38.50078373,  40.25233411,\n",
       "         41.90239327,  43.45347906,  44.93020669,  46.31361913,\n",
       "         47.60213701,  48.78882691,  49.86438019,  50.81997055,\n",
       "         51.65642741,  52.37860754,  52.9983474 ,  53.53543106,\n",
       "         54.02546682,  54.52141004,  55.08394121,  55.76007473,\n",
       "         56.56094606,  57.41021473,  58.17334446,  58.68783578,\n",
       "         58.85765035,  58.72588473,  58.47322443,  58.3050058 ,\n",
       "         58.30128527,  58.34883568,  58.22948895,  57.83698451,\n",
       "         57.27477457,  56.78308502,  56.49718761,  56.30969163,\n",
       "         55.99026244,  55.45236723,  54.85078611,  54.3978268 ,\n",
       "         54.09586105,  53.70582898,  52.99602438,  51.9650764 ,\n",
       "         50.7907164 ,  49.60993966,  48.40728999,  47.14241832,\n",
       "         45.8534312 ,  44.59136398,  43.3179381 ,  41.91579306,\n",
       "         40.34855841,  38.67579988,  36.97726231,  35.23238378,\n",
       "         33.41874267,  31.54087297,  29.66249274,  27.80304419,\n",
       "         25.94604197,  24.12090821,  22.34102241,  20.6859375 ,\n",
       "         19.15330148,  17.81064869,  16.70520622,   1.6       ,\n",
       "          1.6       ,   1.6       ,   1.6       ,   1.6       ,\n",
       "          1.6       ,   1.6       ,   1.6       ,   1.6       ,\n",
       "          1.6       ,   1.6       ,   1.6       ,   1.6       ,\n",
       "          1.6       ,   1.6       ,   1.6       ,   1.6       ,\n",
       "          1.6       ,   1.6       ,   1.6       ,   1.6       ,\n",
       "          1.6       ,   1.6       ,   1.6       ,   1.6       ,\n",
       "          1.6       ,   1.6       ,   1.6       ,   1.6       ,\n",
       "          1.6       ,   1.6       ,   1.6       ,   1.6       ,\n",
       "          1.6       ,   1.6       ,   1.6       ,   1.6       ,\n",
       "          1.6       ,   1.6       ,   1.6       ,   1.6       ,\n",
       "          1.6       ,   1.6       ,   1.6       ,   1.6       ,\n",
       "          1.6       ,   1.6       ,   1.6       ,   1.6       ,\n",
       "          1.6       ,   1.6       ,   1.6       ,   1.6       ,\n",
       "          1.6       ,   1.6       ,   1.6       ,   1.6       ,\n",
       "          1.6       ,   1.6       ,   1.6       ,   1.6       ,\n",
       "          1.6       ,   1.6       ,   1.6       ,   1.6       ,\n",
       "          1.6       ,   1.6       ,   1.6       ,   1.6       ,\n",
       "          1.6       ,   1.6       ],\n",
       "       [ -0.27611552,  -0.55154789,  -0.80279425,  -1.07076556,\n",
       "         -1.34114177,  -1.57391203,  -1.7482453 ,  -1.89931062,\n",
       "         -2.01682085,  -2.16523729,  -2.39282865,  -2.74523528,\n",
       "         -3.26975371,  -3.96662252,  -4.841813  ,  -5.86797616,\n",
       "         -7.01641279,  -8.24507707,  -9.57757911, -10.98543462,\n",
       "        -12.47986584, -14.06875898, -15.75732216, -17.54857902,\n",
       "        -19.45950858, -21.50153856, -23.6817646 , -25.99086712,\n",
       "        -28.40155379, -30.87359618, -33.35012429, -35.77546892,\n",
       "        -38.1327147 , -40.42623069, -42.73104937, -45.13971785,\n",
       "        -47.7172894 , -50.44732347, -53.23176962, -55.93718047,\n",
       "        -58.49343526, -60.94767739, -63.41409776, -65.97935877,\n",
       "        -68.57866912, -71.06105285, -73.31785737, -75.38130149,\n",
       "        -77.36767764, -79.33075997, -81.1720952 , -82.74278664,\n",
       "        -84.01094522, -85.09784473, -86.14596276, -87.1641744 ,\n",
       "        -88.03973802, -88.68039193, -89.0616683 , -89.19406763,\n",
       "        -89.03742339, -88.52951292, -87.67090624, -86.50811002,\n",
       "        -85.04778432, -83.23673467, -80.99846097, -78.3127964 ,\n",
       "        -75.16057009, -71.50654168, -67.27512258, -62.40785947,\n",
       "        -56.86514894, -50.57395334, -43.46446426, -35.41725502,\n",
       "        -26.34813228, -16.12519534,  -4.60201787,   6.        ,\n",
       "          6.        ,   6.        ,   6.        ,   6.        ,\n",
       "          6.        ,   6.        ,   6.        ,   6.        ,\n",
       "          6.        ,   6.        ,   6.        ,   6.        ,\n",
       "          6.        ,   6.        ,   6.        ,   6.        ,\n",
       "          6.        ,   6.        ,   6.        ,   6.        ,\n",
       "          6.        ,   6.        ,   6.        ,   6.        ,\n",
       "          6.        ,   6.        ,   6.        ,   6.        ,\n",
       "          6.        ,   6.        ,   6.        ,   6.        ,\n",
       "          6.        ,   6.        ,   6.        ,   6.        ,\n",
       "          6.        ,   6.        ,   6.        ,   6.        ,\n",
       "          6.        ,   6.        ,   6.        ,   6.        ,\n",
       "          6.        ,   6.        ,   6.        ,   6.        ,\n",
       "          6.        ,   6.        ,   6.        ,   6.        ,\n",
       "          6.        ,   6.        ,   6.        ,   6.        ,\n",
       "          6.        ,   6.        ,   6.        ,   6.        ,\n",
       "          6.        ,   6.        ,   6.        ,   6.        ,\n",
       "          6.        ,   6.        ,   6.        ,   6.        ,\n",
       "          6.        ,   6.        ]])"
      ]
     },
     "execution_count": 32,
     "metadata": {},
     "output_type": "execute_result"
    }
   ],
   "source": [
    "np.hstack((uoptqppro,np.tile(uoptqppro[:,[-1]],(P-M))))"
   ]
  },
  {
   "cell_type": "code",
   "execution_count": 33,
   "metadata": {
    "collapsed": false
   },
   "outputs": [
    {
     "data": {
      "text/plain": [
       "array([ 1.6,  6. ])"
      ]
     },
     "execution_count": 33,
     "metadata": {},
     "output_type": "execute_result"
    }
   ],
   "source": [
    "np.sum(np.hstack((uoptqppro[:,[0]],np.diff(uoptqppro))),axis=1)"
   ]
  }
 ],
 "metadata": {
  "anaconda-cloud": {},
  "kernelspec": {
   "display_name": "Python 3",
   "language": "python",
   "name": "python3"
  },
  "language_info": {
   "codemirror_mode": {
    "name": "ipython",
    "version": 3
   },
   "file_extension": ".py",
   "mimetype": "text/x-python",
   "name": "python",
   "nbconvert_exporter": "python",
   "pygments_lexer": "ipython3",
   "version": "3.6.0"
  }
 },
 "nbformat": 4,
 "nbformat_minor": 0
}
