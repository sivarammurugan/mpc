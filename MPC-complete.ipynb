{
 "cells": [
  {
   "cell_type": "code",
   "execution_count": 16,
   "metadata": {},
   "outputs": [],
   "source": [
    "import numpy as np\n",
    "import scipy.signal\n",
    "import scipy.optimize\n",
    "import matplotlib.pyplot as plt\n",
    "import control\n",
    "%matplotlib inline"
   ]
  },
  {
   "cell_type": "markdown",
   "metadata": {},
   "source": [
    "We start with a linear model of the system"
   ]
  },
  {
   "cell_type": "code",
   "execution_count": 9,
   "metadata": {},
   "outputs": [],
   "source": [
    "nMV = 2\n",
    "nCV = 2\n",
    "G11 = scipy.signal.lti([-10.0], [20.0, 1]) # reflux to top , first digit indicates CV and second dight indicates MV\n",
    "G21 = scipy.signal.lti([-5.0], [50.0,1]) # reflux to bottom \n",
    "G12 = scipy.signal.lti([3.0],[7.0,1]) # reboiler to top\n",
    "G22 = scipy.signal.lti([2.0],[5.0,1]) # reboiler to bottom.\n",
    "K = np.array([-10.0,3.0,-5.0,2.0]).reshape(2,2) # MVs are across the columns, CVs across the rows\n"
   ]
  },
  {
   "cell_type": "code",
   "execution_count": 10,
   "metadata": {
    "collapsed": true
   },
   "outputs": [],
   "source": [
    "M = 50  # Control horizon\n",
    "P = 150  # Prediction horizon"
   ]
  },
  {
   "cell_type": "code",
   "execution_count": 11,
   "metadata": {},
   "outputs": [],
   "source": [
    "ABSU = np.array([50,2000]).reshape(-1,1)\n",
    "U= np.ones(nMV).reshape(-1,1) # initial move \n",
    "ABSY0 = np.array([80,100]).reshape(-1,1) # initial value of top purity and bottom temp\n",
    "ABSYSP = np.array([82,104]).reshape(-1,1) # desired target entered by the user. \n",
    "YSP = (ABSYSP -ABSY0).reshape(-1,1) # desired deviation \n"
   ]
  },
  {
   "cell_type": "code",
   "execution_count": 12,
   "metadata": {
    "collapsed": true
   },
   "outputs": [],
   "source": [
    "Q= np.array([1,2])#.reshape(-1,1) # CV Weight \n",
    "R= np.array([0.1,0.1])#.reshape(-1,1) # MV Weight "
   ]
  },
  {
   "cell_type": "markdown",
   "metadata": {},
   "source": [
    "### steady state solver\n",
    "- this since this control problem is feasible , it can be solved algebraically. There is no need for steady state optimization."
   ]
  },
  {
   "cell_type": "code",
   "execution_count": 13,
   "metadata": {},
   "outputs": [
    {
     "data": {
      "text/plain": [
       "array([[ 1.6],\n",
       "       [ 6. ]])"
      ]
     },
     "execution_count": 13,
     "metadata": {},
     "output_type": "execute_result"
    }
   ],
   "source": [
    "#try linear algebra to solve the steady state \n",
    "from scipy import linalg\n",
    "USS = linalg.solve(K,YSP)\n",
    "YSS = YSP\n",
    "USS"
   ]
  },
  {
   "cell_type": "markdown",
   "metadata": {},
   "source": [
    "### move plan optimization (Dynamic optimization)"
   ]
  },
  {
   "cell_type": "code",
   "execution_count": 21,
   "metadata": {},
   "outputs": [
    {
     "data": {
      "text/plain": [
       "array([[2, 2, 2, 2, 2, 2, 2, 2, 2, 2, 2, 2, 2, 2, 2, 2, 2, 2, 2, 2, 2, 2,\n",
       "        2, 2, 2, 2, 2, 2, 2, 2, 2, 2, 2, 2, 2, 2, 2, 2, 2, 2, 2, 2, 2, 2,\n",
       "        2, 2, 2, 2, 2, 2, 2, 2, 2, 2, 2, 2, 2, 2, 2, 2, 2, 2, 2, 2, 2, 2,\n",
       "        2, 2, 2, 2, 2, 2, 2, 2, 2, 2, 2, 2, 2, 2, 2, 2, 2, 2, 2, 2, 2, 2,\n",
       "        2, 2, 2, 2, 2, 2, 2, 2, 2, 2, 2, 2, 2, 2, 2, 2, 2, 2, 2, 2, 2, 2,\n",
       "        2, 2, 2, 2, 2, 2, 2, 2, 2, 2, 2, 2, 2, 2, 2, 2, 2, 2, 2, 2, 2, 2,\n",
       "        2, 2, 2, 2, 2, 2, 2, 2, 2, 2, 2, 2, 2, 2, 2, 2, 2, 2],\n",
       "       [4, 4, 4, 4, 4, 4, 4, 4, 4, 4, 4, 4, 4, 4, 4, 4, 4, 4, 4, 4, 4, 4,\n",
       "        4, 4, 4, 4, 4, 4, 4, 4, 4, 4, 4, 4, 4, 4, 4, 4, 4, 4, 4, 4, 4, 4,\n",
       "        4, 4, 4, 4, 4, 4, 4, 4, 4, 4, 4, 4, 4, 4, 4, 4, 4, 4, 4, 4, 4, 4,\n",
       "        4, 4, 4, 4, 4, 4, 4, 4, 4, 4, 4, 4, 4, 4, 4, 4, 4, 4, 4, 4, 4, 4,\n",
       "        4, 4, 4, 4, 4, 4, 4, 4, 4, 4, 4, 4, 4, 4, 4, 4, 4, 4, 4, 4, 4, 4,\n",
       "        4, 4, 4, 4, 4, 4, 4, 4, 4, 4, 4, 4, 4, 4, 4, 4, 4, 4, 4, 4, 4, 4,\n",
       "        4, 4, 4, 4, 4, 4, 4, 4, 4, 4, 4, 4, 4, 4, 4, 4, 4, 4]])"
      ]
     },
     "execution_count": 21,
     "metadata": {},
     "output_type": "execute_result"
    }
   ],
   "source": [
    "#u = USS*np.ones(M) # u is an array of length  M ( control horizon ) , that holds the MV move plan , initially set to the steady state move\n",
    "u = np.zeros((nMV,M))\n",
    "yref = np.tile(YSS,P) # reference trajectory\n",
    "yref\n"
   ]
  },
  {
   "cell_type": "code",
   "execution_count": 14,
   "metadata": {},
   "outputs": [],
   "source": [
    "# this function repeats holds the last move of the controller steady , from the control horizaon to prediction horizon \n",
    "# as after control horizon, the MV will not move. \n",
    "def extend(uf):\n",
    "    uf1 = uf.reshape(nMV,-1) # this step is required because , scipy optimize can return only  flattened arrays, which should be\n",
    "    # \"folded back\" to proper shape.\n",
    "    \n",
    "    \n",
    "    ext = np.tile(uf1[:,[-1]],(P-M))\n",
    "    return np.hstack((uf1,ext))\n"
   ]
  },
  {
   "cell_type": "code",
   "execution_count": 23,
   "metadata": {},
   "outputs": [
    {
     "data": {
      "text/plain": [
       "4"
      ]
     },
     "execution_count": 23,
     "metadata": {},
     "output_type": "execute_result"
    }
   ],
   "source": [
    "\n",
    "A = np.diag([-0.05,-0.02,-0.2,-0.1429])\n",
    "A.shape[1]\n",
    "\n"
   ]
  },
  {
   "cell_type": "code",
   "execution_count": 24,
   "metadata": {},
   "outputs": [
    {
     "data": {
      "text/plain": [
       "(2, 4)"
      ]
     },
     "execution_count": 24,
     "metadata": {},
     "output_type": "execute_result"
    }
   ],
   "source": [
    "B = np.array([[0.5,0],[0.25,0],[0,0.5],[0,0.5]])\n",
    "C = np.array([[-1,0,0.8,0],[0,-0.4,0,0.8571]])\n",
    "x = np.zeros((A.shape[1],1))\n",
    "C.shape"
   ]
  },
  {
   "cell_type": "code",
   "execution_count": 56,
   "metadata": {},
   "outputs": [],
   "source": [
    "#the predictions should be based on the delta MVs  \n",
    "def prediction(u):\n",
    "    ts = np.linspace(0, P, P)\n",
    "    dt = ts[1]\n",
    "    x = np.zeros((A.shape[1],1)) # state vector\n",
    "    ys = np.zeros((nCV,P)) # prediction matrix\n",
    "    dxdt = np.zeros((A.shape[1],1)) # alwasn initialize the arrays. \n",
    "    \n",
    "    deltau = \n",
    "    \n",
    "    for i,t in enumerate(ts):\n",
    "        dxdt = A.dot(x)+B.dot((u[:,[i]]))\n",
    "        x = x + dxdt*dt\n",
    "        y = C.dot(x) # output vector\n",
    "        \n",
    "        ys[:,i] = y[:,0] # this assigns the ith column of a numpy array to another vect\n",
    "    #print(ys)\n",
    "    return ys\n"
   ]
  },
  {
   "cell_type": "markdown",
   "metadata": {},
   "source": [
    "note: the np.diff function starts differencing from second element ( to the first element ) . however, we need to include the first element of the input array for penalization . hence the vstack functino is used to add the first column for penalization"
   ]
  },
  {
   "cell_type": "markdown",
   "metadata": {},
   "source": [
    "### unconstrained optimization"
   ]
  },
  {
   "cell_type": "code",
   "execution_count": 54,
   "metadata": {},
   "outputs": [],
   "source": [
    "def objective(u):\n",
    "    #ypred = np.empty((nCV,P)) # can be deleted , i think,\n",
    "    ypred = prediction(extend(u))\n",
    "    \n",
    "    upro = u.reshape(nMV,-1)\n",
    "        \n",
    "    #YC = np.vstack((YC1,YC2)) # note the one argument given within double brackets.\n",
    "    obj = np.sum((np.dot(np.square(ypred-yref).T,Q))) + np.sum(np.dot(np.square(upro.T),R))\n",
    "    #obj = np.sum((Q*(ypred-yref))**2)+np.sum((np.diff(upro))**2*R)\n",
    "    #print(obj)\n",
    "    return obj"
   ]
  },
  {
   "cell_type": "code",
   "execution_count": 57,
   "metadata": {
    "scrolled": false
   },
   "outputs": [],
   "source": [
    "uopt = scipy.optimize.minimize(objective, u).x\n",
    "uoptpro = uopt.reshape(nMV,-1)\n"
   ]
  },
  {
   "cell_type": "code",
   "execution_count": 64,
   "metadata": {},
   "outputs": [
    {
     "data": {
      "text/plain": [
       "array([[ 0.,  0.,  0.,  0.,  0.,  0.,  0.,  0.,  0.,  0.,  0.,  0.,  0.,\n",
       "         0.,  0.,  0.,  0.,  0.,  0.,  0.,  0.,  0.,  0.,  0.,  0.,  0.,\n",
       "         0.,  0.,  0.,  0.,  0.,  0.,  0.,  0.,  0.,  0.,  0.,  0.,  0.,\n",
       "         0.,  0.,  0.,  0.,  0.,  0.,  0.,  0.,  0.,  0.,  0.],\n",
       "       [ 0.,  0.,  0.,  0.,  0.,  0.,  0.,  0.,  0.,  0.,  0.,  0.,  0.,\n",
       "         0.,  0.,  0.,  0.,  0.,  0.,  0.,  0.,  0.,  0.,  0.,  0.,  0.,\n",
       "         0.,  0.,  0.,  0.,  0.,  0.,  0.,  0.,  0.,  0.,  0.,  0.,  0.,\n",
       "         0.,  0.,  0.,  0.,  0.,  0.,  0.,  0.,  0.,  0.,  0.]])"
      ]
     },
     "execution_count": 64,
     "metadata": {},
     "output_type": "execute_result"
    }
   ],
   "source": [
    "u"
   ]
  },
  {
   "cell_type": "code",
   "execution_count": 62,
   "metadata": {},
   "outputs": [
    {
     "data": {
      "text/plain": [
       "(2, 49)"
      ]
     },
     "execution_count": 62,
     "metadata": {},
     "output_type": "execute_result"
    }
   ],
   "source": [
    "np.diff(uoptpro).shape"
   ]
  },
  {
   "cell_type": "code",
   "execution_count": 58,
   "metadata": {},
   "outputs": [
    {
     "data": {
      "text/plain": [
       "array([[ 1.43355284],\n",
       "       [ 7.73990559]])"
      ]
     },
     "execution_count": 58,
     "metadata": {},
     "output_type": "execute_result"
    }
   ],
   "source": [
    "uoptpro[:,[0]]"
   ]
  },
  {
   "cell_type": "code",
   "execution_count": 29,
   "metadata": {},
   "outputs": [
    {
     "name": "stdout",
     "output_type": "stream",
     "text": [
      "6.26688685132 79.0840968489\n"
     ]
    }
   ],
   "source": [
    "print(sum(uoptpro[0]),sum(uoptpro[1]))"
   ]
  },
  {
   "cell_type": "code",
   "execution_count": 30,
   "metadata": {},
   "outputs": [],
   "source": [
    "ypred = prediction(extend(uopt))"
   ]
  },
  {
   "cell_type": "markdown",
   "metadata": {},
   "source": [
    "Resample the discrete output to continuous time"
   ]
  },
  {
   "cell_type": "markdown",
   "metadata": {},
   "source": [
    "Plot the move plan and the output. Notice that we are getting exactly the output we want at the sampling times."
   ]
  },
  {
   "cell_type": "code",
   "execution_count": 52,
   "metadata": {},
   "outputs": [
    {
     "data": {
      "text/plain": [
       "[<matplotlib.lines.Line2D at 0x231468669b0>]"
      ]
     },
     "execution_count": 52,
     "metadata": {},
     "output_type": "execute_result"
    },
    {
     "data": {
      "image/png": "[encoded data removed]",
      "text/plain": [
       "<matplotlib.figure.Figure at 0x23146866ba8>"
      ]
     },
     "metadata": {},
     "output_type": "display_data"
    }
   ],
   "source": [
    "plt.plot(uoptpro[0])\n",
    "plt.plot(uoptpro[1])"
   ]
  },
  {
   "cell_type": "code",
   "execution_count": 32,
   "metadata": {},
   "outputs": [
    {
     "data": {
      "text/plain": [
       "[<matplotlib.lines.Line2D at 0x231456ab160>]"
      ]
     },
     "execution_count": 32,
     "metadata": {},
     "output_type": "execute_result"
    },
    {
     "data": {
      "image/png": "[encoded data removed]",
      "text/plain": [
       "<matplotlib.figure.Figure at 0x231451e3e80>"
      ]
     },
     "metadata": {},
     "output_type": "display_data"
    }
   ],
   "source": [
    "plt.plot(ypred[0])"
   ]
  },
  {
   "cell_type": "code",
   "execution_count": 33,
   "metadata": {},
   "outputs": [
    {
     "data": {
      "text/plain": [
       "[<matplotlib.lines.Line2D at 0x231457416d8>]"
      ]
     },
     "execution_count": 33,
     "metadata": {},
     "output_type": "execute_result"
    },
    {
     "data": {
      "image/png": "[encoded data removed]",
      "text/plain": [
       "<matplotlib.figure.Figure at 0x231456ef128>"
      ]
     },
     "metadata": {},
     "output_type": "display_data"
    }
   ],
   "source": [
    "plt.plot(ypred[1])"
   ]
  },
  {
   "cell_type": "code",
   "execution_count": 34,
   "metadata": {},
   "outputs": [
    {
     "data": {
      "text/plain": [
       "array([[  1.43355284e+00,   1.19752404e+00,   4.14708426e-01,\n",
       "          7.13561075e-02,  -4.03190588e-02,  -6.00477950e-02,\n",
       "         -4.78781702e-02,  -2.71959461e-02,  -6.47203080e-03,\n",
       "          1.16347322e-02,   2.66299291e-02,   3.87563473e-02,\n",
       "          4.84550765e-02,   5.61721898e-02,   6.23027017e-02,\n",
       "          6.71729772e-02,   7.10491960e-02,   7.41421011e-02,\n",
       "          7.66192523e-02,   7.86105747e-02,   8.02190155e-02,\n",
       "          8.15256448e-02,   8.25933621e-02,   8.34737986e-02,\n",
       "          8.42060396e-02,   8.48203479e-02,   8.53431414e-02,\n",
       "          8.57912674e-02,   8.61809579e-02,   8.65218483e-02,\n",
       "          8.68245534e-02,   8.70935347e-02,   8.73342226e-02,\n",
       "          8.75504501e-02,   8.77435773e-02,   8.79138167e-02,\n",
       "          8.80596140e-02,   8.81783595e-02,   8.82680983e-02,\n",
       "          8.83265391e-02,   8.83515846e-02,   8.83471654e-02,\n",
       "          8.83367166e-02,   8.83958519e-02,   8.87399755e-02,\n",
       "          8.99569680e-02,   9.38039697e-02,   1.07262808e-01,\n",
       "          1.73933453e-01,   9.50166734e-02],\n",
       "       [  7.73990559e+00,   2.66169610e+00,   1.76312888e+00,\n",
       "          1.51834437e+00,   1.43498281e+00,   1.40582412e+00,\n",
       "          1.39686715e+00,   1.39547490e+00,   1.39677441e+00,\n",
       "          1.39890056e+00,   1.40116484e+00,   1.40333014e+00,\n",
       "          1.40533116e+00,   1.40716303e+00,   1.40884590e+00,\n",
       "          1.41040376e+00,   1.41185845e+00,   1.41322942e+00,\n",
       "          1.41453023e+00,   1.41577266e+00,   1.41696607e+00,\n",
       "          1.41811874e+00,   1.41923566e+00,   1.42032182e+00,\n",
       "          1.42138026e+00,   1.42241335e+00,   1.42342411e+00,\n",
       "          1.42441384e+00,   1.42538271e+00,   1.42633216e+00,\n",
       "          1.42726258e+00,   1.42817243e+00,   1.42906147e+00,\n",
       "          1.42992717e+00,   1.43076721e+00,   1.43157873e+00,\n",
       "          1.43235906e+00,   1.43310359e+00,   1.43380477e+00,\n",
       "          1.43445504e+00,   1.43504564e+00,   1.43557370e+00,\n",
       "          1.43604777e+00,   1.43651105e+00,   1.43709202e+00,\n",
       "          1.43811000e+00,   1.43995608e+00,   1.43899655e+00,\n",
       "          1.37812409e+00,   1.47663068e+00]])"
      ]
     },
     "execution_count": 34,
     "metadata": {},
     "output_type": "execute_result"
    }
   ],
   "source": [
    "uoptpro"
   ]
  },
  {
   "cell_type": "markdown",
   "metadata": {},
   "source": [
    "we notice that  during dynamic optimization , the  \"u\" calculated is different than the steady state optimization .\n",
    "it is because , the steady state targets of u are not enforced in dynamic optimization. In order to enforce this , we should include this as a equality constraint in the scipy optimization function.  "
   ]
  },
  {
   "cell_type": "code",
   "execution_count": 35,
   "metadata": {
    "collapsed": true
   },
   "outputs": [],
   "source": [
    "cons = ({'type': 'eq', 'fun': lambda x: np.sum(x[0])-1.6}, {'type':'eq','fun': lambda x:  np.sum(x[1]) - 6})\n",
    "    \n",
    "    "
   ]
  },
  {
   "cell_type": "markdown",
   "metadata": {
    "collapsed": true
   },
   "source": [
    "### things to do\n",
    "1. develop a steadystate solver that calculates the steady state targets\n",
    "inputs:\n",
    "    . model\n",
    "    . initial conditions of MV \n",
    "    . initial conditions of CVs\n",
    "    . CV targets. \n",
    "    . CV priorities. \n",
    "    . CV Weights. \n",
    "  ouputs\n",
    "  . CV targets\n",
    "  . MV Targets\n",
    " 2. devleop constrained optimizer.  ( max move constraints, vavle position constraints)\n",
    " 3. estimate state using kalman \n",
    " \n",
    " \n",
    " Flow chart \n",
    " 1. calculate the set of optimal moves \n",
    " 2. implement the first move\n",
    " 3. implement the state estimator \n",
    " 4. update the predictions, calculate the new set of moves\n",
    " 5."
   ]
  },
  {
   "cell_type": "code",
   "execution_count": 36,
   "metadata": {},
   "outputs": [
    {
     "data": {
      "text/plain": [
       "1928.0"
      ]
     },
     "execution_count": 36,
     "metadata": {},
     "output_type": "execute_result"
    }
   ],
   "source": [
    "uss = np.tile(USS,M)\n",
    "np.sum((uss-u)**2)"
   ]
  },
  {
   "cell_type": "code",
   "execution_count": 46,
   "metadata": {},
   "outputs": [],
   "source": [
    "def objectivetarget(u):\n",
    "    #ypred = np.empty((nCV,P)) # can be deleted , i think,\n",
    "    ypred = prediction(extend(u))\n",
    "    \n",
    "    upro = u.reshape(nMV,-1)\n",
    "        \n",
    "    #YC = np.vstack((YC1,YC2)) # note the one argument given within double brackets.\n",
    "    obj = np.sum((np.dot(np.square(ypred-yref).T,Q))) + np.sum(np.dot(np.square(upro.T),R))\n",
    "    #obj = np.sum((Q*(ypred-yref))**2)+np.sum((np.square(upro))*R)\n",
    "    #print(obj)\n",
    "    return obj"
   ]
  },
  {
   "cell_type": "code",
   "execution_count": 47,
   "metadata": {},
   "outputs": [],
   "source": [
    "uopt = scipy.optimize.minimize(objectivetarget, u).x\n",
    "#uoptpro = uopt.reshape(nMV,-1)"
   ]
  },
  {
   "cell_type": "code",
   "execution_count": 48,
   "metadata": {},
   "outputs": [],
   "source": [
    "uoptpro = uopt.reshape(nMV,-1)"
   ]
  },
  {
   "cell_type": "code",
   "execution_count": 49,
   "metadata": {},
   "outputs": [
    {
     "data": {
      "text/plain": [
       "[<matplotlib.lines.Line2D at 0x23146856160>]"
      ]
     },
     "execution_count": 49,
     "metadata": {},
     "output_type": "execute_result"
    },
    {
     "data": {
      "image/png": "[encoded data removed]",
      "text/plain": [
       "<matplotlib.figure.Figure at 0x231457885f8>"
      ]
     },
     "metadata": {},
     "output_type": "display_data"
    }
   ],
   "source": [
    "plt.plot(uoptpro[0])"
   ]
  },
  {
   "cell_type": "code",
   "execution_count": 51,
   "metadata": {},
   "outputs": [
    {
     "data": {
      "text/plain": [
       "array([[  1.43355284e+00,   1.19752404e+00,   4.14708426e-01,\n",
       "          7.13561075e-02,  -4.03190588e-02,  -6.00477950e-02,\n",
       "         -4.78781702e-02,  -2.71959461e-02,  -6.47203080e-03,\n",
       "          1.16347322e-02,   2.66299291e-02,   3.87563473e-02,\n",
       "          4.84550765e-02,   5.61721898e-02,   6.23027017e-02,\n",
       "          6.71729772e-02,   7.10491960e-02,   7.41421011e-02,\n",
       "          7.66192523e-02,   7.86105747e-02,   8.02190155e-02,\n",
       "          8.15256448e-02,   8.25933621e-02,   8.34737986e-02,\n",
       "          8.42060396e-02,   8.48203479e-02,   8.53431414e-02,\n",
       "          8.57912674e-02,   8.61809579e-02,   8.65218483e-02,\n",
       "          8.68245534e-02,   8.70935347e-02,   8.73342226e-02,\n",
       "          8.75504501e-02,   8.77435773e-02,   8.79138167e-02,\n",
       "          8.80596140e-02,   8.81783595e-02,   8.82680983e-02,\n",
       "          8.83265391e-02,   8.83515846e-02,   8.83471654e-02,\n",
       "          8.83367166e-02,   8.83958519e-02,   8.87399755e-02,\n",
       "          8.99569680e-02,   9.38039697e-02,   1.07262808e-01,\n",
       "          1.73933453e-01,   9.50166734e-02],\n",
       "       [  7.73990559e+00,   2.66169610e+00,   1.76312888e+00,\n",
       "          1.51834437e+00,   1.43498281e+00,   1.40582412e+00,\n",
       "          1.39686715e+00,   1.39547490e+00,   1.39677441e+00,\n",
       "          1.39890056e+00,   1.40116484e+00,   1.40333014e+00,\n",
       "          1.40533116e+00,   1.40716303e+00,   1.40884590e+00,\n",
       "          1.41040376e+00,   1.41185845e+00,   1.41322942e+00,\n",
       "          1.41453023e+00,   1.41577266e+00,   1.41696607e+00,\n",
       "          1.41811874e+00,   1.41923566e+00,   1.42032182e+00,\n",
       "          1.42138026e+00,   1.42241335e+00,   1.42342411e+00,\n",
       "          1.42441384e+00,   1.42538271e+00,   1.42633216e+00,\n",
       "          1.42726258e+00,   1.42817243e+00,   1.42906147e+00,\n",
       "          1.42992717e+00,   1.43076721e+00,   1.43157873e+00,\n",
       "          1.43235906e+00,   1.43310359e+00,   1.43380477e+00,\n",
       "          1.43445504e+00,   1.43504564e+00,   1.43557370e+00,\n",
       "          1.43604777e+00,   1.43651105e+00,   1.43709202e+00,\n",
       "          1.43811000e+00,   1.43995608e+00,   1.43899655e+00,\n",
       "          1.37812409e+00,   1.47663068e+00]])"
      ]
     },
     "execution_count": 51,
     "metadata": {},
     "output_type": "execute_result"
    }
   ],
   "source": [
    "uoptpro"
   ]
  },
  {
   "cell_type": "code",
   "execution_count": 50,
   "metadata": {},
   "outputs": [
    {
     "data": {
      "text/plain": [
       "79.084096848942224"
      ]
     },
     "execution_count": 50,
     "metadata": {},
     "output_type": "execute_result"
    }
   ],
   "source": [
    "np.sum(uoptpro[1])"
   ]
  },
  {
   "cell_type": "code",
   "execution_count": null,
   "metadata": {
    "collapsed": true
   },
   "outputs": [],
   "source": [
    "ypred1 = prediction(extend(uoptpro))"
   ]
  },
  {
   "cell_type": "code",
   "execution_count": null,
   "metadata": {},
   "outputs": [],
   "source": [
    "plt.plot(ypred1[0])"
   ]
  },
  {
   "cell_type": "code",
   "execution_count": null,
   "metadata": {},
   "outputs": [],
   "source": [
    "plt.plot(ypred1[1])"
   ]
  },
  {
   "cell_type": "markdown",
   "metadata": {},
   "source": [
    "It looks like , still the dynamic optimization for the inputs U still does not match with the steady state optimization prediction "
   ]
  },
  {
   "cell_type": "code",
   "execution_count": null,
   "metadata": {
    "collapsed": true
   },
   "outputs": [],
   "source": [
    "u1 = np.ones((2,P))"
   ]
  },
  {
   "cell_type": "code",
   "execution_count": null,
   "metadata": {},
   "outputs": [],
   "source": [
    "u1[1,:]=0"
   ]
  },
  {
   "cell_type": "code",
   "execution_count": null,
   "metadata": {},
   "outputs": [],
   "source": [
    "u1"
   ]
  },
  {
   "cell_type": "code",
   "execution_count": null,
   "metadata": {
    "collapsed": true
   },
   "outputs": [],
   "source": [
    "yp = prediction(extend(u1))"
   ]
  },
  {
   "cell_type": "code",
   "execution_count": null,
   "metadata": {},
   "outputs": [],
   "source": [
    "plt.plot(yp[0])\n",
    "plt.plot(yp[1])"
   ]
  },
  {
   "cell_type": "code",
   "execution_count": 44,
   "metadata": {},
   "outputs": [
    {
     "ename": "ValueError",
     "evalue": "Objective function must return a scalar",
     "output_type": "error",
     "traceback": [
      "\u001b[0;31m---------------------------------------------------------------------------\u001b[0m",
      "\u001b[0;31mValueError\u001b[0m                                Traceback (most recent call last)",
      "\u001b[0;32mD:\\Anaconda3\\lib\\site-packages\\scipy\\optimize\\slsqp.py\u001b[0m in \u001b[0;36m_minimize_slsqp\u001b[0;34m(func, x0, args, jac, bounds, constraints, maxiter, ftol, iprint, disp, eps, callback, **unknown_options)\u001b[0m\n\u001b[1;32m    367\u001b[0m             \u001b[1;32mtry\u001b[0m\u001b[1;33m:\u001b[0m\u001b[1;33m\u001b[0m\u001b[0m\n\u001b[0;32m--> 368\u001b[0;31m                 \u001b[0mfx\u001b[0m \u001b[1;33m=\u001b[0m \u001b[0mfloat\u001b[0m\u001b[1;33m(\u001b[0m\u001b[0mnp\u001b[0m\u001b[1;33m.\u001b[0m\u001b[0masarray\u001b[0m\u001b[1;33m(\u001b[0m\u001b[0mfunc\u001b[0m\u001b[1;33m(\u001b[0m\u001b[0mx\u001b[0m\u001b[1;33m)\u001b[0m\u001b[1;33m)\u001b[0m\u001b[1;33m)\u001b[0m\u001b[1;33m\u001b[0m\u001b[0m\n\u001b[0m\u001b[1;32m    369\u001b[0m             \u001b[1;32mexcept\u001b[0m\u001b[1;33m:\u001b[0m\u001b[1;33m\u001b[0m\u001b[0m\n",
      "\u001b[0;32mD:\\Anaconda3\\lib\\site-packages\\scipy\\optimize\\optimize.py\u001b[0m in \u001b[0;36mfunction_wrapper\u001b[0;34m(*wrapper_args)\u001b[0m\n\u001b[1;32m    291\u001b[0m         \u001b[0mncalls\u001b[0m\u001b[1;33m[\u001b[0m\u001b[1;36m0\u001b[0m\u001b[1;33m]\u001b[0m \u001b[1;33m+=\u001b[0m \u001b[1;36m1\u001b[0m\u001b[1;33m\u001b[0m\u001b[0m\n\u001b[0;32m--> 292\u001b[0;31m         \u001b[1;32mreturn\u001b[0m \u001b[0mfunction\u001b[0m\u001b[1;33m(\u001b[0m\u001b[1;33m*\u001b[0m\u001b[1;33m(\u001b[0m\u001b[0mwrapper_args\u001b[0m \u001b[1;33m+\u001b[0m \u001b[0margs\u001b[0m\u001b[1;33m)\u001b[0m\u001b[1;33m)\u001b[0m\u001b[1;33m\u001b[0m\u001b[0m\n\u001b[0m\u001b[1;32m    293\u001b[0m \u001b[1;33m\u001b[0m\u001b[0m\n",
      "\u001b[0;32m<ipython-input-37-59906bb22051>\u001b[0m in \u001b[0;36mobjectivetarget\u001b[0;34m(u)\u001b[0m\n\u001b[1;32m      8\u001b[0m     \u001b[1;31m#obj = np.sum((np.dot(np.square(ypred-yref).T,Q))) + np.sum(np.dot(np.square(upro.T),R))\u001b[0m\u001b[1;33m\u001b[0m\u001b[1;33m\u001b[0m\u001b[0m\n\u001b[0;32m----> 9\u001b[0;31m     \u001b[0mobj\u001b[0m \u001b[1;33m=\u001b[0m \u001b[0mnp\u001b[0m\u001b[1;33m.\u001b[0m\u001b[0msum\u001b[0m\u001b[1;33m(\u001b[0m\u001b[1;33m(\u001b[0m\u001b[0mQ\u001b[0m\u001b[1;33m*\u001b[0m\u001b[1;33m(\u001b[0m\u001b[0mypred\u001b[0m\u001b[1;33m-\u001b[0m\u001b[0myref\u001b[0m\u001b[1;33m)\u001b[0m\u001b[1;33m)\u001b[0m\u001b[1;33m**\u001b[0m\u001b[1;36m2\u001b[0m\u001b[1;33m)\u001b[0m\u001b[1;33m+\u001b[0m\u001b[0mnp\u001b[0m\u001b[1;33m.\u001b[0m\u001b[0msum\u001b[0m\u001b[1;33m(\u001b[0m\u001b[1;33m(\u001b[0m\u001b[0mnp\u001b[0m\u001b[1;33m.\u001b[0m\u001b[0msquare\u001b[0m\u001b[1;33m(\u001b[0m\u001b[0mnp\u001b[0m\u001b[1;33m.\u001b[0m\u001b[0mdiff\u001b[0m\u001b[1;33m(\u001b[0m\u001b[0mupro\u001b[0m\u001b[1;33m)\u001b[0m\u001b[1;33m)\u001b[0m\u001b[1;33m*\u001b[0m\u001b[0mR\u001b[0m\u001b[1;33m)\u001b[0m\u001b[1;33m)\u001b[0m\u001b[1;33m\u001b[0m\u001b[0m\n\u001b[0m\u001b[1;32m     10\u001b[0m     \u001b[1;31m#print(obj)\u001b[0m\u001b[1;33m\u001b[0m\u001b[1;33m\u001b[0m\u001b[0m\n",
      "\u001b[0;31mValueError\u001b[0m: operands could not be broadcast together with shapes (2,) (2,150) ",
      "\nDuring handling of the above exception, another exception occurred:\n",
      "\u001b[0;31mValueError\u001b[0m                                Traceback (most recent call last)",
      "\u001b[0;32m<ipython-input-44-c9f2f88a729c>\u001b[0m in \u001b[0;36m<module>\u001b[0;34m()\u001b[0m\n\u001b[0;32m----> 1\u001b[0;31m \u001b[0muoptqp\u001b[0m \u001b[1;33m=\u001b[0m \u001b[0mscipy\u001b[0m\u001b[1;33m.\u001b[0m\u001b[0moptimize\u001b[0m\u001b[1;33m.\u001b[0m\u001b[0mminimize\u001b[0m\u001b[1;33m(\u001b[0m\u001b[0mobjectivetarget\u001b[0m\u001b[1;33m,\u001b[0m\u001b[0mu\u001b[0m\u001b[1;33m,\u001b[0m \u001b[0mmethod\u001b[0m\u001b[1;33m=\u001b[0m\u001b[1;34m'SLSQP'\u001b[0m\u001b[1;33m)\u001b[0m\u001b[1;33m.\u001b[0m\u001b[0mx\u001b[0m\u001b[1;33m\u001b[0m\u001b[0m\n\u001b[0m",
      "\u001b[0;32mD:\\Anaconda3\\lib\\site-packages\\scipy\\optimize\\_minimize.py\u001b[0m in \u001b[0;36mminimize\u001b[0;34m(fun, x0, args, method, jac, hess, hessp, bounds, constraints, tol, callback, options)\u001b[0m\n\u001b[1;32m    456\u001b[0m     \u001b[1;32melif\u001b[0m \u001b[0mmeth\u001b[0m \u001b[1;33m==\u001b[0m \u001b[1;34m'slsqp'\u001b[0m\u001b[1;33m:\u001b[0m\u001b[1;33m\u001b[0m\u001b[0m\n\u001b[1;32m    457\u001b[0m         return _minimize_slsqp(fun, x0, args, jac, bounds,\n\u001b[0;32m--> 458\u001b[0;31m                                constraints, callback=callback, **options)\n\u001b[0m\u001b[1;32m    459\u001b[0m     \u001b[1;32melif\u001b[0m \u001b[0mmeth\u001b[0m \u001b[1;33m==\u001b[0m \u001b[1;34m'dogleg'\u001b[0m\u001b[1;33m:\u001b[0m\u001b[1;33m\u001b[0m\u001b[0m\n\u001b[1;32m    460\u001b[0m         return _minimize_dogleg(fun, x0, args, jac, hess,\n",
      "\u001b[0;32mD:\\Anaconda3\\lib\\site-packages\\scipy\\optimize\\slsqp.py\u001b[0m in \u001b[0;36m_minimize_slsqp\u001b[0;34m(func, x0, args, jac, bounds, constraints, maxiter, ftol, iprint, disp, eps, callback, **unknown_options)\u001b[0m\n\u001b[1;32m    368\u001b[0m                 \u001b[0mfx\u001b[0m \u001b[1;33m=\u001b[0m \u001b[0mfloat\u001b[0m\u001b[1;33m(\u001b[0m\u001b[0mnp\u001b[0m\u001b[1;33m.\u001b[0m\u001b[0masarray\u001b[0m\u001b[1;33m(\u001b[0m\u001b[0mfunc\u001b[0m\u001b[1;33m(\u001b[0m\u001b[0mx\u001b[0m\u001b[1;33m)\u001b[0m\u001b[1;33m)\u001b[0m\u001b[1;33m)\u001b[0m\u001b[1;33m\u001b[0m\u001b[0m\n\u001b[1;32m    369\u001b[0m             \u001b[1;32mexcept\u001b[0m\u001b[1;33m:\u001b[0m\u001b[1;33m\u001b[0m\u001b[0m\n\u001b[0;32m--> 370\u001b[0;31m                 \u001b[1;32mraise\u001b[0m \u001b[0mValueError\u001b[0m\u001b[1;33m(\u001b[0m\u001b[1;34m\"Objective function must return a scalar\"\u001b[0m\u001b[1;33m)\u001b[0m\u001b[1;33m\u001b[0m\u001b[0m\n\u001b[0m\u001b[1;32m    371\u001b[0m             \u001b[1;31m# Compute the constraints\u001b[0m\u001b[1;33m\u001b[0m\u001b[1;33m\u001b[0m\u001b[0m\n\u001b[1;32m    372\u001b[0m             \u001b[1;32mif\u001b[0m \u001b[0mcons\u001b[0m\u001b[1;33m[\u001b[0m\u001b[1;34m'eq'\u001b[0m\u001b[1;33m]\u001b[0m\u001b[1;33m:\u001b[0m\u001b[1;33m\u001b[0m\u001b[0m\n",
      "\u001b[0;31mValueError\u001b[0m: Objective function must return a scalar"
     ]
    }
   ],
   "source": [
    "uoptqp = scipy.optimize.minimize(objectivetarget,u, method='SLSQP').x"
   ]
  },
  {
   "cell_type": "code",
   "execution_count": null,
   "metadata": {},
   "outputs": [],
   "source": [
    "uoptproqp = uopt.reshape(nMV,-1)"
   ]
  },
  {
   "cell_type": "code",
   "execution_count": null,
   "metadata": {},
   "outputs": [],
   "source": [
    "uoptproqp"
   ]
  },
  {
   "cell_type": "code",
   "execution_count": null,
   "metadata": {},
   "outputs": [],
   "source": [
    "uss"
   ]
  },
  {
   "cell_type": "markdown",
   "metadata": {
    "collapsed": true
   },
   "source": []
  },
  {
   "cell_type": "code",
   "execution_count": null,
   "metadata": {
    "collapsed": true
   },
   "outputs": [],
   "source": []
  },
  {
   "cell_type": "code",
   "execution_count": null,
   "metadata": {
    "collapsed": true
   },
   "outputs": [],
   "source": []
  }
 ],
 "metadata": {
  "anaconda-cloud": {},
  "kernelspec": {
   "display_name": "Python 3",
   "language": "python",
   "name": "python3"
  },
  "language_info": {
   "codemirror_mode": {
    "name": "ipython",
    "version": 3
   },
   "file_extension": ".py",
   "mimetype": "text/x-python",
   "name": "python",
   "nbconvert_exporter": "python",
   "pygments_lexer": "ipython3",
   "version": "3.6.2"
  }
 },
 "nbformat": 4,
 "nbformat_minor": 1
}
