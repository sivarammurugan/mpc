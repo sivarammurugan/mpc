{
 "metadata": {
  "kernelspec": {
   "display_name": "Python 3",
   "language": "python",
   "name": "python3"
  },
  "language_info": {
   "codemirror_mode": {
    "name": "ipython",
    "version": 3
   },
   "file_extension": ".py",
   "mimetype": "text/x-python",
   "name": "python",
   "nbconvert_exporter": "python",
   "pygments_lexer": "ipython3",
   "version": "3.5.1"
  },
  "name": ""
 },
 "nbformat": 3,
 "nbformat_minor": 0,
 "worksheets": [
  {
   "cells": [
    {
     "cell_type": "code",
     "collapsed": true,
     "input": [
      "import numpy\n",
      "import scipy.signal\n",
      "import scipy.optimize\n",
      "import matplotlib.pyplot as plt\n",
      "%matplotlib inline"
     ],
     "language": "python",
     "metadata": {},
     "outputs": [],
     "prompt_number": 69
    },
    {
     "cell_type": "markdown",
     "metadata": {},
     "source": [
      "We start with a linear model of the system"
     ]
    },
    {
     "cell_type": "code",
     "collapsed": true,
     "input": [
      "G = scipy.signal.lti([2], [1, 2, 1])"
     ],
     "language": "python",
     "metadata": {},
     "outputs": [],
     "prompt_number": 87
    },
    {
     "cell_type": "code",
     "collapsed": false,
     "input": [
      "plt.plot(*G.step())"
     ],
     "language": "python",
     "metadata": {},
     "outputs": [
      {
       "metadata": {},
       "output_type": "pyout",
       "prompt_number": 88,
       "text": [
        "[<matplotlib.lines.Line2D at 0x111683240>]"
       ]
      },
      {
       "metadata": {},
       "output_type": "display_data",
       "png": "[encoded data removed]",
       "text": [
        "<matplotlib.figure.Figure at 0x10ad38438>"
       ]
      }
     ],
     "prompt_number": 88
    },
    {
     "cell_type": "code",
     "collapsed": true,
     "input": [
      "M = 10  # Control horizon\n",
      "P = 20  # Prediction horizon"
     ],
     "language": "python",
     "metadata": {},
     "outputs": [],
     "prompt_number": 178
    },
    {
     "cell_type": "code",
     "collapsed": true,
     "input": [
      "DeltaT = 0.5  # Sampling rate"
     ],
     "language": "python",
     "metadata": {},
     "outputs": [],
     "prompt_number": 295
    },
    {
     "cell_type": "code",
     "collapsed": true,
     "input": [
      "tcontinuous = numpy.linspace(0, DeltaT*P, 1000)  # some closely spaced time points\n",
      "tpredict = numpy.arange(0, P*DeltaT, DeltaT)   # discrete points at prediction horizon"
     ],
     "language": "python",
     "metadata": {},
     "outputs": [],
     "prompt_number": 296
    },
    {
     "cell_type": "code",
     "collapsed": true,
     "input": [
      "u = numpy.ones(M)\n",
      "r = numpy.ones(P)"
     ],
     "language": "python",
     "metadata": {},
     "outputs": [],
     "prompt_number": 297
    },
    {
     "cell_type": "code",
     "collapsed": true,
     "input": [
      "x0 = numpy.zeros(G.A.shape[0])"
     ],
     "language": "python",
     "metadata": {},
     "outputs": [],
     "prompt_number": 322
    },
    {
     "cell_type": "code",
     "collapsed": true,
     "input": [
      "def extend(u):\n",
      "    return numpy.concatenate([u, numpy.repeat(u[-1], P-M)])"
     ],
     "language": "python",
     "metadata": {},
     "outputs": [],
     "prompt_number": 323
    },
    {
     "cell_type": "code",
     "collapsed": false,
     "input": [
      "def prediction(u, t=tpredict, x0=x0):\n",
      "    t, y, x = scipy.signal.lsim(G, u, t, X0=x0, interp=False)\n",
      "    return y"
     ],
     "language": "python",
     "metadata": {},
     "outputs": [],
     "prompt_number": 324
    },
    {
     "cell_type": "code",
     "collapsed": false,
     "input": [
      "plt.plot(prediction(extend(u)))"
     ],
     "language": "python",
     "metadata": {},
     "outputs": [
      {
       "metadata": {},
       "output_type": "pyout",
       "prompt_number": 325,
       "text": [
        "[<matplotlib.lines.Line2D at 0x113bb73c8>]"
       ]
      },
      {
       "metadata": {},
       "output_type": "display_data",
       "png": "[encoded data removed]",
       "text": [
        "<matplotlib.figure.Figure at 0x11494a240>"
       ]
      }
     ],
     "prompt_number": 325
    },
    {
     "cell_type": "code",
     "collapsed": true,
     "input": [
      "def objective(u, x0=x0):\n",
      "    y = prediction(extend(u))\n",
      "    return sum((r - y)**2)"
     ],
     "language": "python",
     "metadata": {},
     "outputs": [],
     "prompt_number": 328
    },
    {
     "cell_type": "code",
     "collapsed": false,
     "input": [
      "objective(u)"
     ],
     "language": "python",
     "metadata": {},
     "outputs": [
      {
       "metadata": {},
       "output_type": "pyout",
       "prompt_number": 329,
       "text": [
        "14.006954404601428"
       ]
      }
     ],
     "prompt_number": 329
    },
    {
     "cell_type": "markdown",
     "metadata": {},
     "source": [
      "Now we figure out a set of moves which will minimise our objective function"
     ]
    },
    {
     "cell_type": "code",
     "collapsed": false,
     "input": [
      "uopt = scipy.optimize.minimize(objective, u).x"
     ],
     "language": "python",
     "metadata": {},
     "outputs": [],
     "prompt_number": 330
    },
    {
     "cell_type": "markdown",
     "metadata": {},
     "source": [
      "Resample the discrete output to continuous time"
     ]
    },
    {
     "cell_type": "code",
     "collapsed": false,
     "input": [
      "ucont = extend(uopt)[((tcontinuous-0.01)//DeltaT).astype(int)]"
     ],
     "language": "python",
     "metadata": {},
     "outputs": [],
     "prompt_number": 331
    },
    {
     "cell_type": "markdown",
     "metadata": {},
     "source": [
      "Plot the move plan and the output. Notice that we are getting exactly the output we want at the sampling times."
     ]
    },
    {
     "cell_type": "code",
     "collapsed": false,
     "input": [
      "plt.figure()\n",
      "plt.plot(tcontinuous, ucont)\n",
      "plt.xlim([0, DeltaT*(P+1)])\n",
      "plt.figure()\n",
      "plt.plot(tcontinuous, prediction(ucont, tcontinuous), \n",
      "         tpredict, prediction(extend(uopt)),\n",
      "         tpredict, r,\n",
      "         )"
     ],
     "language": "python",
     "metadata": {},
     "outputs": [
      {
       "metadata": {},
       "output_type": "pyout",
       "prompt_number": 337,
       "text": [
        "[<matplotlib.lines.Line2D at 0x115c6d518>,\n",
        " <matplotlib.lines.Line2D at 0x115c44128>,\n",
        " <matplotlib.lines.Line2D at 0x115c3f908>]"
       ]
      },
      {
       "metadata": {},
       "output_type": "display_data",
       "png": "[encoded data removed]",
       "text": [
        "<matplotlib.figure.Figure at 0x115ae97f0>"
       ]
      },
      {
       "metadata": {},
       "output_type": "display_data",
       "png": "[encoded data removed]",
       "text": [
        "<matplotlib.figure.Figure at 0x115bdaf28>"
       ]
      }
     ],
     "prompt_number": 337
    },
    {
     "cell_type": "code",
     "collapsed": true,
     "input": [],
     "language": "python",
     "metadata": {},
     "outputs": [],
     "prompt_number": null
    }
   ],
   "metadata": {}
  }
 ]
}
