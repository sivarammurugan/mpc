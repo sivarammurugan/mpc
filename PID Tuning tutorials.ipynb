{
 "cells": [
  {
   "cell_type": "markdown",
   "metadata": {},
   "source": [
    "#### Introduction.\n",
    "In this tutorial , we will simulate PID Controllers to see set point and disturbance  response to a first order system, how to troubleshoot the PID controllers , and how to obtain the optimal PID paramters \n",
    "PID ( proportioal integral and Derivative controllers )  controllers are the workhorses of a process control system in a plant. \n",
    "The algorithm of PID controllers in interactive form is given by \n"
   ]
  },
  {
   "cell_type": "markdown",
   "metadata": {},
   "source": [
    "$$ MV(t) = k_p( E(t) + \\frac{1}{T_i}\\int _{0}^{t}E(t)dt+ T_d E(t) ) $$"
   ]
  },
  {
   "cell_type": "markdown",
   "metadata": {},
   "source": [
    "where $k_p$ is the proportional gain , $T_i$ is the integral time and $T_d$ is the derivative gain."
   ]
  },
  {
   "cell_type": "markdown",
   "metadata": {},
   "source": [
    "In transfer function form this is represented as \n",
    "\n",
    " $$ K_p (1+ \\frac{1}{T_i}s + T_ds) $$"
   ]
  },
  {
   "cell_type": "code",
   "execution_count": 1,
   "metadata": {
    "collapsed": true
   },
   "outputs": [],
   "source": [
    "import scipy.signal\n",
    "import numpy\n",
    "import matplotlib.pyplot as plt\n",
    "%matplotlib inline\n",
    "import sympy"
   ]
  },
  {
   "cell_type": "code",
   "execution_count": 2,
   "metadata": {
    "collapsed": true
   },
   "outputs": [],
   "source": [
    "class PIController:\n",
    "    def __init__(self, Kc, tau_i, bias):\n",
    "        self.G = scipy.signal.lti([Kc*tau_i, Kc], [tau_i, 0]) # model of PID transfer function\n",
    "        self.change_state(numpy.zeros((self.G.A.shape[0], 1))) # 18 is the initial PV\n",
    "        self.bias = self.output = bias\n",
    "        self.y = self.bias\n",
    "        \n",
    "    def change_input(self, u):\n",
    "        self.y = self.G.C.dot(self.x) + self.G.D.dot(u) + self.bias\n",
    "        self.output = self.y[0, 0]  # because y is a matrix, and we want a scalar output\n",
    "    \n",
    "    def change_state(self, x):\n",
    "        self.x = self.state = x\n",
    "    \n",
    "    def derivative(self, e):\n",
    "        return self.G.A.dot(self.x) + self.G.B.dot(e)"
   ]
  },
  {
   "cell_type": "code",
   "execution_count": 3,
   "metadata": {
    "collapsed": true
   },
   "outputs": [],
   "source": [
    "import numpy\n",
    "ts = numpy.linspace(0,100,1000)\n",
    "dt= ts[1]\n",
    "SV = 50\n"
   ]
  },
  {
   "cell_type": "code",
   "execution_count": 4,
   "metadata": {
    "collapsed": true
   },
   "outputs": [],
   "source": [
    "class LtiSystem:\n",
    "    def __init__(self,num,den):\n",
    "        self.G =scipy.signal.lti(num,den)\n",
    "        self.change_state(numpy.ones((self.G.A.shape[0],1))) # initialize the PV\n",
    "        self.y = self.output = 40\n",
    "    \n",
    "    def change_input(self,u):\n",
    "        self.y = self.G.C.dot(self.x)\n",
    "        self.output = self.y[0,0]\n",
    "        \n",
    "    def change_state(self,x):\n",
    "        self.x = self.state = x\n",
    "        \n",
    "    def derivative(self,e):\n",
    "        return self.G.A.dot(self.x) + self.G.B.dot(e)\n",
    "    \n",
    "    "
   ]
  },
  {
   "cell_type": "code",
   "execution_count": 5,
   "metadata": {
    "collapsed": true
   },
   "outputs": [],
   "source": [
    "def control_simulation(system, controller):\n",
    "    outputs = []\n",
    "    for t in ts:\n",
    "        system.change_input(controller.output)\n",
    "\n",
    "        e = sp - system.output\n",
    "\n",
    "        controller.change_input(e)\n",
    "\n",
    "        system.change_state(system.state + system.derivative(controller.output)*dt)\n",
    "        controller.change_state(controller.state + controller.derivative(e)*dt)\n",
    "\n",
    "        outputs.append(system.output)\n",
    "    return outputs\n",
    "        \n",
    "        "
   ]
  },
  {
   "cell_type": "code",
   "execution_count": 6,
   "metadata": {
    "collapsed": true
   },
   "outputs": [],
   "source": [
    "ts = numpy.linspace(0, 100, 100)\n",
    "dt = ts[1]\n",
    "sp = 20"
   ]
  },
  {
   "cell_type": "code",
   "execution_count": 7,
   "metadata": {
    "collapsed": true
   },
   "outputs": [],
   "source": [
    "\n",
    "def simulate(kc, kp, ti , t):\n",
    "    outputs = control_simulation(system=LtiSystem(kp, [t, 1]), \n",
    "                             controller=PIController(kc, tau_i=ti, bias=0))\n",
    "   \n",
    "    plt.plot(ts,  outputs)\n",
    "    plt.plot([sp]*100)\n",
    "    \n"
   ]
  },
  {
   "cell_type": "code",
   "execution_count": 8,
   "metadata": {
    "collapsed": true
   },
   "outputs": [],
   "source": [
    "from ipywidgets import interact"
   ]
  },
  {
   "cell_type": "code",
   "execution_count": 9,
   "metadata": {},
   "outputs": [
    {
     "data": {
      "application/vnd.jupyter.widget-view+json": {
       "model_id": "39fbe83ce2a4492fb0a54fe82e1b7136",
       "version_major": 2,
       "version_minor": 0
      },
      "text/html": [
       "<p>Failed to display Jupyter Widget of type <code>interactive</code>.</p>\n",
       "<p>\n",
       "  If you're reading this message in the Jupyter Notebook or JupyterLab Notebook, it may mean\n",
       "  that the widgets JavaScript is still loading. If this message persists, it\n",
       "  likely means that the widgets JavaScript library is either not installed or\n",
       "  not enabled. See the <a href=\"https://ipywidgets.readthedocs.io/en/stable/user_install.html\">Jupyter\n",
       "  Widgets Documentation</a> for setup instructions.\n",
       "</p>\n",
       "<p>\n",
       "  If you're reading this message in another frontend (for example, a static\n",
       "  rendering on GitHub or <a href=\"https://nbviewer.jupyter.org/\">NBViewer</a>),\n",
       "  it may mean that your frontend doesn't currently support widgets.\n",
       "</p>\n"
      ],
      "text/plain": [
       "interactive(children=(FloatSlider(value=5.0, description='kc', max=10.0, min=0.1), FloatSlider(value=5.0, description='kp', max=10.0, min=0.1), FloatSlider(value=5.0, description='ti', max=10.0, min=0.1), FloatSlider(value=5.0, description='t', max=10.0, min=0.1), Output()), _dom_classes=('widget-interact',))"
      ]
     },
     "metadata": {},
     "output_type": "display_data"
    },
    {
     "data": {
      "text/plain": [
       "<function __main__.simulate>"
      ]
     },
     "execution_count": 9,
     "metadata": {},
     "output_type": "execute_result"
    }
   ],
   "source": [
    "interact(simulate, kc=(0.1,10,0.1),kp=(0.1,10,0.1),ti=(0.1,10,0.1),t=(0.1,10,0.1))"
   ]
  },
  {
   "cell_type": "code",
   "execution_count": 10,
   "metadata": {
    "collapsed": true
   },
   "outputs": [],
   "source": [
    "from ipywidgets import ToggleButtons"
   ]
  },
  {
   "cell_type": "code",
   "execution_count": 11,
   "metadata": {
    "collapsed": true
   },
   "outputs": [],
   "source": [
    "toggle = ToggleButtons()"
   ]
  },
  {
   "cell_type": "code",
   "execution_count": null,
   "metadata": {
    "collapsed": true
   },
   "outputs": [],
   "source": []
  }
 ],
 "metadata": {
  "kernelspec": {
   "display_name": "Python 3",
   "language": "python",
   "name": "python3"
  },
  "language_info": {
   "codemirror_mode": {
    "name": "ipython",
    "version": 3
   },
   "file_extension": ".py",
   "mimetype": "text/x-python",
   "name": "python",
   "nbconvert_exporter": "python",
   "pygments_lexer": "ipython3",
   "version": "3.6.2"
  }
 },
 "nbformat": 4,
 "nbformat_minor": 1
}
