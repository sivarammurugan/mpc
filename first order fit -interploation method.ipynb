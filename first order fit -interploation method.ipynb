{
 "cells": [
  {
   "cell_type": "code",
   "execution_count": 1,
   "metadata": {
    "ExecuteTime": {
     "end_time": "2017-05-07T11:26:25.614004",
     "start_time": "2017-05-07T11:26:25.610004"
    },
    "collapsed": true
   },
   "outputs": [],
   "source": [
    "import numpy as np\n",
    "import matplotlib.pyplot as plt\n",
    "from scipy.integrate import odeint\n",
    "from scipy.optimize import minimize\n",
    "from scipy.interpolate import interp1d\n",
    "import scipy"
   ]
  },
  {
   "cell_type": "code",
   "execution_count": 2,
   "metadata": {
    "ExecuteTime": {
     "end_time": "2017-05-07T11:26:35.923164",
     "start_time": "2017-05-07T11:26:35.913164"
    },
    "collapsed": true
   },
   "outputs": [],
   "source": [
    "u= np.ones(400)\n",
    "#make random step signals\n",
    "u[0:20] = 0\n",
    "u[100:110]=0\n",
    "u[200:250]=0\n",
    "ts = range(400)"
   ]
  },
  {
   "cell_type": "code",
   "execution_count": 3,
   "metadata": {
    "ExecuteTime": {
     "end_time": "2017-05-07T11:26:39.992210",
     "start_time": "2017-05-07T11:26:39.969209"
    },
    "collapsed": true
   },
   "outputs": [],
   "source": [
    "%matplotlib inline"
   ]
  },
  {
   "cell_type": "markdown",
   "metadata": {},
   "source": [
    "the curve fit funtionc works better than a \"commmerical identification package\"  in case of noisy data. The aida parameters for noisy data are 3.9 and 8"
   ]
  },
  {
   "cell_type": "markdown",
   "metadata": {},
   "source": [
    "Interpolation basically coversters an array of x and y , to a function. An array of x and y , consists of mappings x and y values only for specific values of x , but function takes an argument and returns result , for any value of x. The interplation does not support indexing , as it is a function"
   ]
  },
  {
   "cell_type": "code",
   "execution_count": 4,
   "metadata": {
    "collapsed": true
   },
   "outputs": [],
   "source": [
    "def fopdt(u,k,tau,dt):\n",
    "    y = 0\n",
    "    ys = []\n",
    "    ts = range(400)\n",
    "    uf= interp1d(ts,u)\n",
    "    for t in ts:\n",
    "    \n",
    "        if (t-dt) < 0:\n",
    "            dydt=0\n",
    "        else:\n",
    "            dydt = (-1/tau)*y + (k/tau)*uf(t-dt) # look at the brackets  , instead of square brackets. \n",
    "            \n",
    "            y += dydt\n",
    "        ys.append(y)\n",
    "    y_arr = np.array(ys)\n",
    "    return y_arr"
   ]
  },
  {
   "cell_type": "markdown",
   "metadata": {},
   "source": [
    "now let us do this using numpy arrays. to make it more efficient . The key point to remember that , to avoid the for loops and \"append\" operations, specify the size of the whole numpy array initially , and then change the elements slice by slice. "
   ]
  },
  {
   "cell_type": "markdown",
   "metadata": {},
   "source": [
    "def fopdt(u,k,tau,dt):\n",
    "    y = 0\n",
    "    ys = np.zeros(400)\n",
    "    ts = range(400)\n",
    "    uf= interp1d(ts,u)\n",
    "    if (t-dt) < 0:\n",
    "        dydt[:dt]=0\n",
    "    else:\n",
    "        dydt[dt+1:] = (-1/tau)*y + (k/tau)*uf(t-dt) # look at the brackets  , instead of square brackets. \n",
    "    y += dydt\n",
    "        ys.append(y)\n",
    "    y_arr = np.array(ys)\n",
    "    return y_arr"
   ]
  },
  {
   "cell_type": "code",
   "execution_count": 5,
   "metadata": {
    "collapsed": true
   },
   "outputs": [],
   "source": [
    "y = fopdt(u,4,10,20)"
   ]
  },
  {
   "cell_type": "code",
   "execution_count": 6,
   "metadata": {
    "collapsed": true
   },
   "outputs": [],
   "source": [
    "yn = np.random.rand(400)+y"
   ]
  },
  {
   "cell_type": "code",
   "execution_count": 7,
   "metadata": {
    "collapsed": true
   },
   "outputs": [],
   "source": [
    "popt,pcov =scipy.optimize.curve_fit(fopdt,u,yn,bounds=([-10000,0.1,0],[10000,600,100]))"
   ]
  },
  {
   "cell_type": "code",
   "execution_count": 8,
   "metadata": {},
   "outputs": [
    {
     "data": {
      "text/plain": [
       "array([  4.60108259,  12.41403886,  18.81818349])"
      ]
     },
     "execution_count": 8,
     "metadata": {},
     "output_type": "execute_result"
    }
   ],
   "source": [
    "popt"
   ]
  },
  {
   "cell_type": "code",
   "execution_count": 9,
   "metadata": {
    "collapsed": true
   },
   "outputs": [],
   "source": [
    "def residuals(p):\n",
    "    k,tau,dt = p\n",
    "    err = np.sum((yn- fopdt(u,k,tau,dt))**2)\n",
    "    return err"
   ]
  },
  {
   "cell_type": "code",
   "execution_count": 10,
   "metadata": {
    "collapsed": true
   },
   "outputs": [],
   "source": [
    "popt1 = scipy.optimize.minimize(residuals,x0=(1,1,1),bounds=((-10000,10000),(0.01,600),(0,100)))"
   ]
  },
  {
   "cell_type": "code",
   "execution_count": 11,
   "metadata": {},
   "outputs": [
    {
     "data": {
      "text/plain": [
       "array([  4.60108109,  12.41396385,  18.81821108])"
      ]
     },
     "execution_count": 11,
     "metadata": {},
     "output_type": "execute_result"
    }
   ],
   "source": [
    "popt1.x"
   ]
  },
  {
   "cell_type": "markdown",
   "metadata": {},
   "source": [
    "curve_fit and scipy.optimize.minimize give exactly the same solutions. "
   ]
  },
  {
   "cell_type": "markdown",
   "metadata": {},
   "source": [
    "if the output is without noise, then"
   ]
  },
  {
   "cell_type": "code",
   "execution_count": 12,
   "metadata": {
    "collapsed": true
   },
   "outputs": [],
   "source": [
    "def residuals(p):\n",
    "    k,tau,dt = p\n",
    "    err = np.sum((y- fopdt(u,k,tau,dt))**2)\n",
    "    return err"
   ]
  },
  {
   "cell_type": "code",
   "execution_count": 13,
   "metadata": {
    "collapsed": true
   },
   "outputs": [],
   "source": [
    "popt1 = scipy.optimize.minimize(residuals,x0=(1,1,1),bounds=((-10000,10000),(0.01,600),(0,100)))"
   ]
  },
  {
   "cell_type": "code",
   "execution_count": 14,
   "metadata": {},
   "outputs": [
    {
     "data": {
      "text/plain": [
       "array([  3.99999999,   9.99999984,  20.00000011])"
      ]
     },
     "execution_count": 14,
     "metadata": {},
     "output_type": "execute_result"
    }
   ],
   "source": [
    "popt1.x"
   ]
  },
  {
   "cell_type": "code",
   "execution_count": 15,
   "metadata": {
    "collapsed": true
   },
   "outputs": [],
   "source": [
    "def residuals(p):\n",
    "    k,tau,dt = p\n",
    "    ym = fopdt(u,k,tau,dt)\n",
    "    ydt = yn[int(dt):] # slice of y , that starts after the delay time. \n",
    "    ymdt = ym[int(dt):] # slice of ym , that starts after the delay time. \n",
    "    err = np.sum((ydt -ymdt )**2)/ydt.size\n",
    "    return err"
   ]
  },
  {
   "cell_type": "code",
   "execution_count": 16,
   "metadata": {
    "collapsed": true
   },
   "outputs": [],
   "source": [
    "popt1 = scipy.optimize.minimize(residuals,x0=(1,1,1),bounds=((-10000,10000),(0.01,600),(0,100)))"
   ]
  },
  {
   "cell_type": "code",
   "execution_count": 17,
   "metadata": {},
   "outputs": [
    {
     "data": {
      "text/plain": [
       "array([  4.60112605,  12.41617031,  18.81751254])"
      ]
     },
     "execution_count": 17,
     "metadata": {},
     "output_type": "execute_result"
    }
   ],
   "source": [
    "popt1.x"
   ]
  },
  {
   "cell_type": "markdown",
   "metadata": {},
   "source": [
    "let us create a deviation variable , for y , so that , the first value of y is zero "
   ]
  },
  {
   "cell_type": "code",
   "execution_count": 18,
   "metadata": {
    "collapsed": true
   },
   "outputs": [],
   "source": [
    "ydev = yn -yn[0]"
   ]
  },
  {
   "cell_type": "code",
   "execution_count": 19,
   "metadata": {
    "collapsed": true
   },
   "outputs": [],
   "source": [
    "def residuals(p):\n",
    "    k,tau,dt = p\n",
    "    ym = fopdt(u,k,tau,dt) \n",
    "    ymdev = ym -ym[0]\n",
    "    err = np.sum((ydev- ymdev)**2)\n",
    "    return err"
   ]
  },
  {
   "cell_type": "code",
   "execution_count": 20,
   "metadata": {
    "collapsed": true
   },
   "outputs": [],
   "source": [
    "popt1 = scipy.optimize.minimize(residuals,x0=(1,1,1),bounds=((-10000,10000),(0.01,600),(0,100)))"
   ]
  },
  {
   "cell_type": "code",
   "execution_count": 21,
   "metadata": {},
   "outputs": [
    {
     "data": {
      "text/plain": [
       "array([  4.22439063,  10.93859959,  19.67360926])"
      ]
     },
     "execution_count": 21,
     "metadata": {},
     "output_type": "execute_result"
    }
   ],
   "source": [
    "popt1.x"
   ]
  },
  {
   "cell_type": "markdown",
   "metadata": {},
   "source": [
    "very good improvment with deviation variable fitting,i see that , the initial value of y , makes a big difference in identification in noisy data. "
   ]
  },
  {
   "cell_type": "markdown",
   "metadata": {},
   "source": [
    "aida parameters ar 4.063,10.03, 18.87"
   ]
  },
  {
   "cell_type": "markdown",
   "metadata": {},
   "source": [
    "next , we will try to model the noise , and remove the noise, then model \n",
    "two kinds of noise \n",
    "1. drifting \n",
    "2. random "
   ]
  },
  {
   "cell_type": "markdown",
   "metadata": {},
   "source": [
    "assuming , that there is only random noise , how to model this noise ? Gaussian filter ?"
   ]
  },
  {
   "cell_type": "code",
   "execution_count": 22,
   "metadata": {},
   "outputs": [
    {
     "name": "stdout",
     "output_type": "stream",
     "text": [
      "1.28 s ± 153 ms per loop (mean ± std. dev. of 7 runs, 1 loop each)\n"
     ]
    }
   ],
   "source": [
    "%timeit popt,pcov =scipy.optimize.curve_fit(fopdt,u,ydev,bounds=([-10000,0.1,0],[10000,600,100]))"
   ]
  },
  {
   "cell_type": "code",
   "execution_count": 23,
   "metadata": {},
   "outputs": [
    {
     "data": {
      "text/plain": [
       "array([  4.60108259,  12.41403886,  18.81818349])"
      ]
     },
     "execution_count": 23,
     "metadata": {},
     "output_type": "execute_result"
    }
   ],
   "source": [
    "popt"
   ]
  },
  {
   "cell_type": "code",
   "execution_count": 24,
   "metadata": {},
   "outputs": [
    {
     "name": "stdout",
     "output_type": "stream",
     "text": [
      "422 ms ± 22.2 ms per loop (mean ± std. dev. of 7 runs, 1 loop each)\n"
     ]
    }
   ],
   "source": [
    "%timeit popt,pcov =scipy.optimize.curve_fit(fopdt,u,ydev,p0=[4,10,20],bounds=([-10000,0.1,0],[10000,600,100]))\n"
   ]
  },
  {
   "cell_type": "markdown",
   "metadata": {},
   "source": [
    "the initial conditions do make a difference  , in the speed of execution , but no difference in solution.\n"
   ]
  },
  {
   "cell_type": "code",
   "execution_count": 25,
   "metadata": {},
   "outputs": [
    {
     "data": {
      "text/plain": [
       "array([  4.60108259,  12.41403886,  18.81818349])"
      ]
     },
     "execution_count": 25,
     "metadata": {},
     "output_type": "execute_result"
    }
   ],
   "source": [
    "popt"
   ]
  },
  {
   "cell_type": "code",
   "execution_count": 26,
   "metadata": {},
   "outputs": [
    {
     "data": {
      "text/plain": [
       "[<matplotlib.lines.Line2D at 0x1ae8f4fdc50>]"
      ]
     },
     "execution_count": 26,
     "metadata": {},
     "output_type": "execute_result"
    },
    {
     "data": {
      "image/png": "[encoded data removed]",
      "text/plain": [
       "<matplotlib.figure.Figure at 0x1ae8f4fdf60>"
      ]
     },
     "metadata": {},
     "output_type": "display_data"
    }
   ],
   "source": [
    "plt.plot(yn)\n",
    "plt.plot(yn[0]+fopdt(u,popt[0],popt[1],popt[2]))"
   ]
  },
  {
   "cell_type": "code",
   "execution_count": 27,
   "metadata": {
    "collapsed": true
   },
   "outputs": [],
   "source": [
    "def stepresponse(p,horizon):\n",
    "    k,tau,dt = p\n",
    "    u = np.ones(horizon)\n",
    "    y = 0\n",
    "    ys = []\n",
    "    ts = range(horizon)\n",
    "    uf= interp1d(ts,u)\n",
    "    for t in ts:\n",
    "    \n",
    "        if (t-dt) < 0:\n",
    "            dydt=0\n",
    "        else:\n",
    "            dydt = (-1/tau)*y + (k/tau)*uf(t-dt) # look at the brackets  , instead of square brackets. \n",
    "            \n",
    "            y += dydt\n",
    "        ys.append(y)\n",
    "    plt.plot(ys)\n",
    "    "
   ]
  },
  {
   "cell_type": "code",
   "execution_count": 28,
   "metadata": {},
   "outputs": [
    {
     "data": {
      "image/png": "[encoded data removed]",
      "text/plain": [
       "<matplotlib.figure.Figure at 0x1ae8fa61358>"
      ]
     },
     "metadata": {},
     "output_type": "display_data"
    }
   ],
   "source": [
    "stepresponse(popt,100)"
   ]
  },
  {
   "cell_type": "markdown",
   "metadata": {},
   "source": [
    "things to do\n",
    "1. MIMO identification\n",
    "2. detrending, drifting \n",
    "3. optimization with numpy array\n",
    "4. closed loop identification.\n"
   ]
  },
  {
   "cell_type": "code",
   "execution_count": null,
   "metadata": {
    "collapsed": true
   },
   "outputs": [],
   "source": [
    "def stepresponse(p,horizon):\n",
    "    k0,tau0,dt0 = p[0]\n",
    "    k1,tau1,dt1 = p[1]\n",
    "    \n",
    "    u = np.ones(horizon)\n",
    "    y = 0\n",
    "    ys = []\n",
    "    ts = range(horizon)\n",
    "    uf= interp1d(ts,u)\n",
    "    for t in ts:\n",
    "    \n",
    "        if (t-dt) < 0:\n",
    "            dydt=0\n",
    "        else:\n",
    "            dydt = (-1/tau)*y + (k/tau)*uf(t-dt) # look at the brackets  , instead of square brackets. \n",
    "            \n",
    "            y += dydt\n",
    "        ys.append(y)\n",
    "    plt.plot(ys)"
   ]
  }
 ],
 "metadata": {
  "kernelspec": {
   "display_name": "Python 3",
   "language": "python",
   "name": "python3"
  },
  "language_info": {
   "codemirror_mode": {
    "name": "ipython",
    "version": 3
   },
   "file_extension": ".py",
   "mimetype": "text/x-python",
   "name": "python",
   "nbconvert_exporter": "python",
   "pygments_lexer": "ipython3",
   "version": "3.6.2"
  }
 },
 "nbformat": 4,
 "nbformat_minor": 1
}
