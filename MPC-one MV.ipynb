{
 "cells": [
  {
   "cell_type": "code",
   "execution_count": 1,
   "metadata": {
    "collapsed": true
   },
   "outputs": [],
   "source": [
    "import numpy\n",
    "import scipy.signal\n",
    "import scipy.optimize\n",
    "import matplotlib.pyplot as plt\n",
    "%matplotlib inline"
   ]
  },
  {
   "cell_type": "markdown",
   "metadata": {},
   "source": [
    "We start with a linear model of the system"
   ]
  },
  {
   "cell_type": "code",
   "execution_count": 2,
   "metadata": {
    "collapsed": true
   },
   "outputs": [],
   "source": [
    "G11 = scipy.signal.lti([-10], [5, 1]) # reflux to top , first digit indicates CV and second dight indicates MV\n",
    "G21 = scipy.signal.lti([-5], [10,1]) # reflux to bottom \n",
    "K = numpy.array([-10,-5]).reshape(-1,1)"
   ]
  },
  {
   "cell_type": "code",
   "execution_count": 3,
   "metadata": {
    "collapsed": true
   },
   "outputs": [],
   "source": [
    "M = 18  # Control horizon\n",
    "P = 72  # Prediction horizon"
   ]
  },
  {
   "cell_type": "code",
   "execution_count": 4,
   "metadata": {
    "collapsed": true
   },
   "outputs": [],
   "source": [
    "DeltaT = 1  # Sampling rate"
   ]
  },
  {
   "cell_type": "code",
   "execution_count": 5,
   "metadata": {},
   "outputs": [],
   "source": [
    "tcontinuous = numpy.linspace(0, DeltaT*P, 1000)  # some closely spaced time points\n",
    "tpredict = numpy.arange(0, P*DeltaT, DeltaT)   # discrete points at prediction horizon\n"
   ]
  },
  {
   "cell_type": "markdown",
   "metadata": {},
   "source": [
    "reshape(-1,1) changes the array shape from horizontal to vertical"
   ]
  },
  {
   "cell_type": "code",
   "execution_count": 6,
   "metadata": {},
   "outputs": [],
   "source": [
    "ABSU = numpy.array([50])\n",
    "U= numpy.array([0]) # initial move \n",
    "ABSY0 = numpy.array([100,20]).reshape(-1,1) # initial value of top purity.\n",
    "ABSYSP = numpy.array([120,25]).reshape(-1,1) # desired target entered by the user. \n",
    "YSP = ABSYSP -ABSY0 # desired deviation \n",
    "\n"
   ]
  },
  {
   "cell_type": "code",
   "execution_count": 7,
   "metadata": {},
   "outputs": [],
   "source": [
    "x1 = numpy.zeros(G11.A.shape[0])\n",
    "x2= numpy.zeros(G21.A.shape[0])\n"
   ]
  },
  {
   "cell_type": "code",
   "execution_count": 8,
   "metadata": {
    "collapsed": true
   },
   "outputs": [],
   "source": [
    "Q= numpy.array([1,2]).reshape(-1,1) # CV Weight \n",
    "R= numpy.array([10]) # MV Weight "
   ]
  },
  {
   "cell_type": "code",
   "execution_count": null,
   "metadata": {},
   "outputs": [],
   "source": []
  },
  {
   "cell_type": "code",
   "execution_count": 9,
   "metadata": {},
   "outputs": [
    {
     "data": {
      "text/plain": [
       "array([-1.45593106])"
      ]
     },
     "execution_count": 9,
     "metadata": {},
     "output_type": "execute_result"
    }
   ],
   "source": [
    "#The steady state solver takes the MV array , CV set targets array, CV deviations  and the  gain matrix and should return the steady state targets .\n",
    "def steadystateobjective(U):\n",
    "    YSS = K*U  \n",
    "    SummedError = numpy.sum(numpy.abs((YSP - YSS)*Q))\n",
    "    return SummedError\n",
    "\n",
    "USS = scipy.optimize.minimize(steadystateobjective, U).x # not sure , why this .x\n",
    "YSS = K*USS\n",
    "ABSUSS = ABSU + USS\n",
    "ABSYSS = ABSY0+ YSS\n",
    "YSPRef = YSS*numpy.ones(P) # desired trajectory \n",
    "ABSUSS,ABSYSS\n",
    "USS"
   ]
  },
  {
   "cell_type": "code",
   "execution_count": 10,
   "metadata": {},
   "outputs": [],
   "source": [
    "#u = USS*numpy.ones(M) # u is an array of length  M ( control horizon ) , that holds the MV move plan , initially set to the steady state move\n",
    "u = numpy.zeros(M)"
   ]
  },
  {
   "cell_type": "code",
   "execution_count": 11,
   "metadata": {
    "collapsed": true
   },
   "outputs": [],
   "source": [
    "# this function repeats holds the last move of the controller steady , from the current time , until control horizon\n",
    "def extend(u):\n",
    "    return numpy.concatenate([u, numpy.repeat(u[-1], P-M)])"
   ]
  },
  {
   "cell_type": "code",
   "execution_count": 12,
   "metadata": {},
   "outputs": [],
   "source": [
    "# instead of using lsim , we can the state space model . Think how can we do this.\n",
    "def prediction(u, t=tpredict, x0=0):\n",
    "    t, y1, x1 = scipy.signal.lsim(G11, u, t,  interp=False)\n",
    "    t, y2, x2 = scipy.signal.lsim(G21, u, t,  interp=False)\n",
    "    return y1,y2"
   ]
  },
  {
   "cell_type": "markdown",
   "metadata": {},
   "source": [
    "should the objective include enforcement of MV steady state values , or is it decided automatically by the CV trajecetory reference?\n"
   ]
  },
  {
   "cell_type": "code",
   "execution_count": 13,
   "metadata": {},
   "outputs": [],
   "source": [
    "def objective(u):\n",
    "    YC1,YC2 = prediction(extend(u))\n",
    "    YC = numpy.vstack((YC1,YC2)) # note the one argument given within double brackets.\n",
    "    return numpy.sum((Q*(YC-YSPRef))**2) + numpy.sum ((numpy.ediff1d(u, to_begin=u[0])*R)**2)"
   ]
  },
  {
   "cell_type": "markdown",
   "metadata": {},
   "source": [
    "Now we figure out a set of moves which will minimise our objective function"
   ]
  },
  {
   "cell_type": "markdown",
   "metadata": {},
   "source": [
    "one thing i fail to understand , why the MV starts from negative values. but the deviation CVs (rightly ) reach from the 0 , and reach the steady state values. But MVs on the other hand , even though they reach the steady state values, there is an \"initial kick\" in the first move , i think it is because , the first move is not penalized  due to the nature of numpy.diff function that it starts differencing from second element. . As a result there is an overshoot. ok. after I changed from diff to ediff1d , the "
   ]
  },
  {
   "cell_type": "code",
   "execution_count": 14,
   "metadata": {},
   "outputs": [
    {
     "data": {
      "text/plain": [
       "array([-1.58308538, -2.36966817, -2.63398534, -2.59497097, -2.40952982,\n",
       "       -2.17897843, -1.96101479, -1.78254705, -1.65092296, -1.56258805,\n",
       "       -1.50909198, -1.48081782, -1.46897781, -1.46641859, -1.46769773,\n",
       "       -1.46878736, -1.4666631 , -1.45896272])"
      ]
     },
     "execution_count": 14,
     "metadata": {},
     "output_type": "execute_result"
    }
   ],
   "source": [
    "uopt = scipy.optimize.minimize(objective, u).x\n",
    "uopt\n"
   ]
  },
  {
   "cell_type": "code",
   "execution_count": 15,
   "metadata": {},
   "outputs": [
    {
     "data": {
      "text/plain": [
       "[<matplotlib.lines.Line2D at 0x81a7d30>]"
      ]
     },
     "execution_count": 15,
     "metadata": {},
     "output_type": "execute_result"
    },
    {
     "data": {
      "image/png": "[encoded data removed]",
      "text/plain": [
       "<matplotlib.figure.Figure at 0x8149f60>"
      ]
     },
     "metadata": {},
     "output_type": "display_data"
    }
   ],
   "source": [
    "opt1,opt2 = prediction(extend(uopt))\n",
    "plt.plot(opt1)\n",
    "plt.plot(opt2)\n",
    "plt.plot(extend(uopt))"
   ]
  },
  {
   "cell_type": "markdown",
   "metadata": {},
   "source": [
    "Resample the discrete output to continuous time"
   ]
  }
 ],
 "metadata": {
  "kernelspec": {
   "display_name": "Python 3",
   "language": "python",
   "name": "python3"
  },
  "language_info": {
   "codemirror_mode": {
    "name": "ipython",
    "version": 3
   },
   "file_extension": ".py",
   "mimetype": "text/x-python",
   "name": "python",
   "nbconvert_exporter": "python",
   "pygments_lexer": "ipython3",
   "version": "3.6.2"
  }
 },
 "nbformat": 4,
 "nbformat_minor": 1
}
