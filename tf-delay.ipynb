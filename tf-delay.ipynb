{
 "cells": [
  {
   "cell_type": "markdown",
   "metadata": {},
   "source": [
    "Lessons learnt : system identification using direct ODE solving ( Eulers method) results in much faster and cleaner \n",
    "code than using state space or  Lsim. \n",
    "\n"
   ]
  },
  {
   "cell_type": "code",
   "execution_count": 38,
   "metadata": {
    "collapsed": true
   },
   "outputs": [],
   "source": [
    "from numpy import *\n",
    "from scipy import interpolate,integrate\n",
    "import numpy as np"
   ]
  },
  {
   "cell_type": "code",
   "execution_count": 60,
   "metadata": {
    "collapsed": true
   },
   "outputs": [],
   "source": [
    "class Tf:\n",
    "    def __init__(self,k=0,d=0,tau1=0,tau2=0,beta=0,ramp=False):\n",
    "        self.k = k\n",
    "        self.d =d\n",
    "        self.tau1= tau1\n",
    "        self.tau2 = tau2\n",
    "        self.beta = beta\n",
    "        self.ramp = ramp\n",
    "    def sim(self,U=None,T=None,X0=None):\n",
    "        num  = np.array([self.k*self.beta, self.k])\n",
    "        num = np.trim_zeros(num,'f')\n",
    "        den = np.array([self.tau2,self.tau1,(1-int(self.ramp))])\n",
    "        den = np.trim_zeros(den,'f')\n",
    "        \n",
    "        nn = len(num.shape)\n",
    "        if nn == 1:\n",
    "            num = asarray([num], num.dtype)\n",
    "        M = num.shape[1]\n",
    "        K = len(den)\n",
    "        \n",
    "        if M == 0 or K == 0:  # Null system\n",
    "            return (array([], float), array([], float), array([], float),\n",
    "                    array([], float))\n",
    "\n",
    "        # pad numerator to have same number of columns has denominator\n",
    "        num = r_['-1', zeros((num.shape[0], K - M), num.dtype), num]\n",
    "\n",
    "        if num.shape[-1] > 0:\n",
    "            D = num[:, 0]\n",
    "        else:\n",
    "            D = array([], float)\n",
    "\n",
    "        if K == 1:\n",
    "            return array([], float), array([], float), array([], float), D\n",
    "\n",
    "        frow = -array([den[1:]])\n",
    "        A = r_[frow, eye(K - 2, K - 1)]\n",
    "        B = eye(K - 1, 1)\n",
    "        C = num[:, 1:] - num[:, 0] * den[1:]\n",
    "        \n",
    "        return A,B,C,D\n",
    "    "
   ]
  },
  {
   "cell_type": "code",
   "execution_count": null,
   "metadata": {
    "collapsed": true
   },
   "outputs": [],
   "source": [
    "def fprime(x, t, A,B,C,D,d,ufunc):\n",
    "    \"\"\"The vector field of the linear system.\"\"\"\n",
    "    return dot(A, x) + squeeze(dot(B, nan_to_num(ufunc(max(0,[t-d]))))) # max function to remove the negative points in time due to delay\n",
    "xout = integrate.odeint(fprime, X0, T, args=(A,B,C,D,d, ufunc))\n",
    "yout = dot(C, transpose(xout)) + dot(D, transpose(U))\n",
    "        else:\n",
    "            def fprime(x, t, sys):\n",
    "                \"\"\"The vector field of the linear system.\"\"\"\n",
    "                return dot(A, x)\n",
    "            xout = integrate.odeint(fprime, X0, T, args=(A,B,C,D,d))\n",
    "            yout = dot(C, transpose(xout))"
   ]
  },
  {
   "cell_type": "code",
   "execution_count": 80,
   "metadata": {
    "collapsed": true
   },
   "outputs": [],
   "source": [
    "tf = Tf(k=-2,tau1=1,tau2=5,d=2)\n",
    "u = zeros(101)\n",
    "u[20:60] = 5\n",
    "\n"
   ]
  },
  {
   "cell_type": "code",
   "execution_count": 42,
   "metadata": {
    "collapsed": true
   },
   "outputs": [],
   "source": [
    "import matplotlib.pyplot as plt"
   ]
  },
  {
   "cell_type": "code",
   "execution_count": 81,
   "metadata": {
    "collapsed": true
   },
   "outputs": [],
   "source": [
    "A,B,C,D = tf.sim()"
   ]
  },
  {
   "cell_type": "code",
   "execution_count": 82,
   "metadata": {},
   "outputs": [
    {
     "data": {
      "text/plain": [
       "(array([[-1., -1.],\n",
       "        [ 1.,  0.]]), array([[ 1.],\n",
       "        [ 0.]]), array([[ 0, -2]]), array([0]))"
      ]
     },
     "execution_count": 82,
     "metadata": {},
     "output_type": "execute_result"
    }
   ],
   "source": [
    "A,B,C,D"
   ]
  },
  {
   "cell_type": "code",
   "execution_count": 83,
   "metadata": {},
   "outputs": [
    {
     "data": {
      "text/plain": [
       "[<matplotlib.lines.Line2D at 0x1f60bbb6320>]"
      ]
     },
     "execution_count": 83,
     "metadata": {},
     "output_type": "execute_result"
    },
    {
     "data": {
      "image/png": "[encoded data removed]",
      "text/plain": [
       "<matplotlib.figure.Figure at 0x1f60b96c1d0>"
      ]
     },
     "metadata": {},
     "output_type": "display_data"
    }
   ],
   "source": [
    "T = np.arange(0,len(u))\n",
    "outputs=[]\n",
    "dt = 0.1\n",
    "x  = zeros((A.shape[0], 1)) #initialize X\n",
    "for t in T:\n",
    "    xdot = A.dot(x) + B.dot(int(u[t]))\n",
    "    y = C.dot(x)\n",
    "    outputs.append(y[0,0])\n",
    "    x = x + xdot*dt\n",
    "\n",
    "plt.plot(outputs)\n"
   ]
  },
  {
   "cell_type": "code",
   "execution_count": 98,
   "metadata": {
    "collapsed": true
   },
   "outputs": [],
   "source": []
  },
  {
   "cell_type": "code",
   "execution_count": 107,
   "metadata": {
    "collapsed": true
   },
   "outputs": [],
   "source": [
    "tf.sim(U=u,T=T)\n",
    "\n",
    "T= arange(0,101,1)\n",
    "\n",
    "\n",
    "\n",
    "        "
   ]
  },
  {
   "cell_type": "code",
   "execution_count": 99,
   "metadata": {
    "collapsed": true
   },
   "outputs": [],
   "source": [
    "A,B,C,D = tf.sim()"
   ]
  },
  {
   "cell_type": "code",
   "execution_count": 108,
   "metadata": {
    "collapsed": true
   },
   "outputs": [],
   "source": [
    "\n",
    "\n"
   ]
  },
  {
   "cell_type": "code",
   "execution_count": 110,
   "metadata": {},
   "outputs": [
    {
     "data": {
      "text/plain": [
       "[<matplotlib.lines.Line2D at 0x1fc12c7f588>]"
      ]
     },
     "execution_count": 110,
     "metadata": {},
     "output_type": "execute_result"
    },
    {
     "data": {
      "image/png": "[encoded data removed]",
      "text/plain": [
       "<matplotlib.figure.Figure at 0x1fc12bc6208>"
      ]
     },
     "metadata": {},
     "output_type": "display_data"
    }
   ],
   "source": [
    "plt.plot(outputs)"
   ]
  },
  {
   "cell_type": "code",
   "execution_count": 33,
   "metadata": {},
   "outputs": [
    {
     "data": {
      "text/plain": [
       "StateSpaceContinuous(\n",
       "array([[-0.1]]),\n",
       "array([[ 1.]]),\n",
       "array([[ 0.5]]),\n",
       "array([[ 0.]]),\n",
       "dt: None\n",
       ")"
      ]
     },
     "execution_count": 33,
     "metadata": {},
     "output_type": "execute_result"
    }
   ],
   "source": [
    "sys.to_ss()"
   ]
  },
  {
   "cell_type": "code",
   "execution_count": 34,
   "metadata": {
    "collapsed": true
   },
   "outputs": [],
   "source": []
  },
  {
   "cell_type": "code",
   "execution_count": 37,
   "metadata": {
    "collapsed": true
   },
   "outputs": [],
   "source": [
    "%matplotlib inline"
   ]
  },
  {
   "cell_type": "code",
   "execution_count": 39,
   "metadata": {
    "collapsed": true
   },
   "outputs": [],
   "source": [
    "import matplotlib.pyplot as plt"
   ]
  },
  {
   "cell_type": "code",
   "execution_count": 49,
   "metadata": {},
   "outputs": [
    {
     "data": {
      "text/plain": [
       "[<matplotlib.lines.Line2D at 0x1fc12b74208>]"
      ]
     },
     "execution_count": 49,
     "metadata": {},
     "output_type": "execute_result"
    },
    {
     "data": {
      "image/png": "[encoded data removed]",
      "text/plain": [
       "<matplotlib.figure.Figure at 0x1fc12a73160>"
      ]
     },
     "metadata": {},
     "output_type": "display_data"
    }
   ],
   "source": [
    "# note ramp model is defined with a trailing zero  \n",
    "sys = lti([2],[20,1,0])\n",
    "plt.plot(sys.step()[1])"
   ]
  },
  {
   "cell_type": "code",
   "execution_count": 53,
   "metadata": {},
   "outputs": [
    {
     "data": {
      "text/plain": [
       "array([5, 2])"
      ]
     },
     "execution_count": 53,
     "metadata": {},
     "output_type": "execute_result"
    }
   ],
   "source": [
    "a = np.array([0,5,2])\n",
    "b = np.trim_zeros(a,'f')\n",
    "b"
   ]
  },
  {
   "cell_type": "code",
   "execution_count": null,
   "metadata": {
    "collapsed": true
   },
   "outputs": [],
   "source": []
  }
 ],
 "metadata": {
  "kernelspec": {
   "display_name": "Python 3",
   "language": "python",
   "name": "python3"
  },
  "language_info": {
   "codemirror_mode": {
    "name": "ipython",
    "version": 3
   },
   "file_extension": ".py",
   "mimetype": "text/x-python",
   "name": "python",
   "nbconvert_exporter": "python",
   "pygments_lexer": "ipython3",
   "version": "3.6.2"
  }
 },
 "nbformat": 4,
 "nbformat_minor": 2
}
