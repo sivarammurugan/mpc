{
 "cells": [
  {
   "cell_type": "code",
   "execution_count": 1,
   "metadata": {},
   "outputs": [],
   "source": [
    "import numpy as np\n",
    "import scipy\n",
    "from scipy.interpolate import interp1d"
   ]
  },
  {
   "cell_type": "code",
   "execution_count": 2,
   "metadata": {},
   "outputs": [],
   "source": [
    "#generate MV , CV signal"
   ]
  },
  {
   "cell_type": "code",
   "execution_count": 3,
   "metadata": {},
   "outputs": [],
   "source": [
    "MV = np.ones(1000)*100"
   ]
  },
  {
   "cell_type": "code",
   "execution_count": 4,
   "metadata": {},
   "outputs": [],
   "source": [
    "MV[20:50] = 80\n",
    "MV[150:200] = 140\n",
    "MV[300:500] =  140"
   ]
  },
  {
   "cell_type": "code",
   "execution_count": null,
   "metadata": {},
   "outputs": [],
   "source": []
  },
  {
   "cell_type": "code",
   "execution_count": 5,
   "metadata": {},
   "outputs": [],
   "source": [
    "def fopdt(u,k,tau,dt):\n",
    "    y = 0\n",
    "    ys = []\n",
    "    ts = range(len(u))\n",
    "    uf= interp1d(ts,u)\n",
    "    for t in ts:\n",
    "    \n",
    "        if (t-dt) < 0:\n",
    "            dydt=0\n",
    "        else:\n",
    "            dydt =  (k*uf(t-dt) - y)/tau # look at the brackets  , instead of square brackets. \n",
    "            \n",
    "        y += dydt\n",
    "        ys.append(y)\n",
    "    y_arr = np.array(ys)\n",
    "    return y_arr"
   ]
  },
  {
   "cell_type": "code",
   "execution_count": null,
   "metadata": {},
   "outputs": [],
   "source": []
  },
  {
   "cell_type": "code",
   "execution_count": 6,
   "metadata": {},
   "outputs": [],
   "source": [
    "dev_MV = MV - MV[0]"
   ]
  },
  {
   "cell_type": "code",
   "execution_count": 7,
   "metadata": {},
   "outputs": [],
   "source": [
    "y = fopdt(dev_MV,4,20,5)"
   ]
  },
  {
   "cell_type": "code",
   "execution_count": 8,
   "metadata": {},
   "outputs": [
    {
     "name": "stdout",
     "output_type": "stream",
     "text": [
      "46 ms ± 1.54 ms per loop (mean ± std. dev. of 7 runs, 10 loops each)\n"
     ]
    }
   ],
   "source": [
    "%timeit fopdt(dev_MV,4,20,5)"
   ]
  },
  {
   "cell_type": "code",
   "execution_count": 9,
   "metadata": {},
   "outputs": [],
   "source": [
    "import matplotlib.pyplot as plt"
   ]
  },
  {
   "cell_type": "code",
   "execution_count": 10,
   "metadata": {},
   "outputs": [
    {
     "data": {
      "text/plain": [
       "[<matplotlib.lines.Line2D at 0x16a534b6390>]"
      ]
     },
     "execution_count": 10,
     "metadata": {},
     "output_type": "execute_result"
    }
   ],
   "source": [
    "plt.plot(y)"
   ]
  },
  {
   "cell_type": "code",
   "execution_count": 11,
   "metadata": {},
   "outputs": [],
   "source": [
    "%matplotlib inline"
   ]
  },
  {
   "cell_type": "code",
   "execution_count": 12,
   "metadata": {},
   "outputs": [],
   "source": [
    "y = y + 200"
   ]
  },
  {
   "cell_type": "code",
   "execution_count": 13,
   "metadata": {},
   "outputs": [
    {
     "data": {
      "text/plain": [
       "[<matplotlib.lines.Line2D at 0x16a5357fe10>]"
      ]
     },
     "execution_count": 13,
     "metadata": {},
     "output_type": "execute_result"
    },
    {
     "data": {
      "image/png": "[encoded data removed]",
      "text/plain": [
       "<matplotlib.figure.Figure at 0x16a533334a8>"
      ]
     },
     "metadata": {},
     "output_type": "display_data"
    }
   ],
   "source": [
    "plt.plot(y)"
   ]
  },
  {
   "cell_type": "code",
   "execution_count": 14,
   "metadata": {},
   "outputs": [],
   "source": [
    "noise = np.random.rand(len(y))*20"
   ]
  },
  {
   "cell_type": "code",
   "execution_count": 15,
   "metadata": {},
   "outputs": [],
   "source": [
    "y = y +noise"
   ]
  },
  {
   "cell_type": "code",
   "execution_count": 16,
   "metadata": {},
   "outputs": [
    {
     "data": {
      "text/plain": [
       "[<matplotlib.lines.Line2D at 0x16a5363a0f0>]"
      ]
     },
     "execution_count": 16,
     "metadata": {},
     "output_type": "execute_result"
    },
    {
     "data": {
      "image/png": "[encoded data removed]",
      "text/plain": [
       "<matplotlib.figure.Figure at 0x16a535abfd0>"
      ]
     },
     "metadata": {},
     "output_type": "display_data"
    }
   ],
   "source": [
    "plt.plot(y)"
   ]
  },
  {
   "cell_type": "code",
   "execution_count": 17,
   "metadata": {},
   "outputs": [
    {
     "data": {
      "text/plain": [
       "array([[ 100.        ,  213.50199207],\n",
       "       [ 100.        ,  215.86825445],\n",
       "       [ 100.        ,  218.85977807],\n",
       "       ..., \n",
       "       [ 100.        ,  219.35630688],\n",
       "       [ 100.        ,  207.66081713],\n",
       "       [ 100.        ,  206.15288296]])"
      ]
     },
     "execution_count": 17,
     "metadata": {},
     "output_type": "execute_result"
    }
   ],
   "source": [
    "np.c_[MV,y]"
   ]
  },
  {
   "cell_type": "code",
   "execution_count": 29,
   "metadata": {},
   "outputs": [],
   "source": [
    "#introduce slow drifting in y\n"
   ]
  },
  {
   "cell_type": "code",
   "execution_count": 30,
   "metadata": {},
   "outputs": [],
   "source": [
    "np.savetxt(\"simulated_noise_only.csv\",np.c_[MV,y],delimiter=\",\",fmt='%1.3f')"
   ]
  },
  {
   "cell_type": "code",
   "execution_count": 31,
   "metadata": {},
   "outputs": [],
   "source": [
    "disturbance = np.zeros(1000)\n",
    "disturbance[700:1000] = 1"
   ]
  },
  {
   "cell_type": "code",
   "execution_count": 32,
   "metadata": {},
   "outputs": [],
   "source": [
    "y_dist = fopdt(disturbance,50,20,0)"
   ]
  },
  {
   "cell_type": "code",
   "execution_count": 33,
   "metadata": {},
   "outputs": [],
   "source": [
    "y_dist = y_dist + y"
   ]
  },
  {
   "cell_type": "code",
   "execution_count": 34,
   "metadata": {},
   "outputs": [],
   "source": [
    "np.savetxt(\"simulated_input_disturbance.csv\",np.c_[MV,y_dist],delimiter=\",\",fmt='%1.3f')"
   ]
  },
  {
   "cell_type": "code",
   "execution_count": 18,
   "metadata": {},
   "outputs": [],
   "source": [
    "# for a ramp process , the ramp gain itself can follow a first order process. \n",
    "# for example , when you inrease a flow set point , the flow PV can follow a first order proess\n",
    "# so a term dynamic gain is used (dyn_k) .  The \"k\" is the steady state gain per min. \n",
    "def ramp(u,k,tau,dt):\n",
    "    y = 0\n",
    "    dyn_k = 0 \n",
    "    ys = []\n",
    "    ts = range(len(u))\n",
    "    uf= interp1d(ts,u)\n",
    "    for t in ts:\n",
    "    \n",
    "        if (t-dt) < 0:\n",
    "            roc_dydt=0\n",
    "        else:\n",
    "            dkdt =  (k*uf(t-dt) - dyn_k )/tau\n",
    "            dyn_k += dkdt\n",
    "            \n",
    "        y += dyn_k\n",
    "        ys.append(y)\n",
    "    y_arr = np.array(ys)\n",
    "    return y_arr"
   ]
  },
  {
   "cell_type": "code",
   "execution_count": 19,
   "metadata": {},
   "outputs": [],
   "source": [
    "y_ramp =  ramp(dev_MV,0.1,10,0)"
   ]
  },
  {
   "cell_type": "code",
   "execution_count": 20,
   "metadata": {},
   "outputs": [
    {
     "data": {
      "text/plain": [
       "[<matplotlib.lines.Line2D at 0x16a535cd048>]"
      ]
     },
     "execution_count": 20,
     "metadata": {},
     "output_type": "execute_result"
    },
    {
     "data": {
      "image/png": "[encoded data removed]",
      "text/plain": [
       "<matplotlib.figure.Figure at 0x16a5364dcf8>"
      ]
     },
     "metadata": {},
     "output_type": "display_data"
    }
   ],
   "source": [
    "plt.plot(y_ramp)\n",
    "plt.plot(MV)"
   ]
  },
  {
   "cell_type": "code",
   "execution_count": 43,
   "metadata": {},
   "outputs": [],
   "source": [
    "y_ramp_dist = ramp(disturbance,-0.5,10,1)"
   ]
  },
  {
   "cell_type": "code",
   "execution_count": 44,
   "metadata": {},
   "outputs": [],
   "source": [
    "y_ramp = y_ramp+ y_ramp_dist + noise"
   ]
  },
  {
   "cell_type": "code",
   "execution_count": 45,
   "metadata": {},
   "outputs": [
    {
     "data": {
      "text/plain": [
       "[<matplotlib.lines.Line2D at 0x1f6b585b860>]"
      ]
     },
     "execution_count": 45,
     "metadata": {},
     "output_type": "execute_result"
    },
    {
     "data": {
      "image/png": "[encoded data removed]",
      "text/plain": [
       "<matplotlib.figure.Figure at 0x1f6b55343c8>"
      ]
     },
     "metadata": {},
     "output_type": "display_data"
    }
   ],
   "source": [
    "plt.plot(y_ramp)"
   ]
  },
  {
   "cell_type": "code",
   "execution_count": 46,
   "metadata": {},
   "outputs": [],
   "source": [
    "np.savetxt(\"ramp.csv\",np.c_[y_ramp],delimiter=\",\",fmt='%1.3f')"
   ]
  },
  {
   "cell_type": "code",
   "execution_count": 57,
   "metadata": {},
   "outputs": [],
   "source": [
    "# in a first order system , the rate of change is proportional to driving force. \n",
    "# in a second order system , there are two driving forces \n",
    "# first  driving force is between dydt and d2ydt2\n",
    "# second driving force is between dydt and y \n",
    "def secondorder(u,k,beta,tau1,tau2,dt):\n",
    "    y  = 0\n",
    "    dy2dt2 = 0\n",
    "    dydt = 0\n",
    "    ys = []\n",
    "    ts = range(len(u))\n",
    "    u_int = interp1d(ts,u)\n",
    "    for t in ts :\n",
    "        if (t-dt ) < 0:\n",
    "            dy2dt2 = 0\n",
    "            dydt = 0\n",
    "        else:\n",
    "            dy2dt2 = (k*u_int(t-dt) - y - tau1*dydt) /(tau2*tau2)  # driving force for d2ydt2\n",
    "            \n",
    "            dydt = dydt + dy2dt2\n",
    "            \n",
    "        y += dydt\n",
    "        ys.append(y)\n",
    "    y_arr = np.array(ys)\n",
    "    return y_arr\n",
    "     "
   ]
  },
  {
   "cell_type": "code",
   "execution_count": 58,
   "metadata": {},
   "outputs": [],
   "source": [
    "y_sec = secondorder(dev_MV,3,0,3,5,0)"
   ]
  },
  {
   "cell_type": "code",
   "execution_count": 60,
   "metadata": {},
   "outputs": [
    {
     "data": {
      "text/plain": [
       "[<matplotlib.lines.Line2D at 0x1f6b69767f0>]"
      ]
     },
     "execution_count": 60,
     "metadata": {},
     "output_type": "execute_result"
    },
    {
     "data": {
      "image/png": "[encoded data removed]",
      "text/plain": [
       "<matplotlib.figure.Figure at 0x1f6b6976860>"
      ]
     },
     "metadata": {},
     "output_type": "display_data"
    }
   ],
   "source": [
    "plt.plot(y_sec)\n",
    "plt.plot(MV)"
   ]
  },
  {
   "cell_type": "code",
   "execution_count": 61,
   "metadata": {},
   "outputs": [],
   "source": [
    "y_sec = secondorder(dev_MV,3,0,20,5,0)"
   ]
  },
  {
   "cell_type": "code",
   "execution_count": 62,
   "metadata": {},
   "outputs": [
    {
     "data": {
      "text/plain": [
       "[<matplotlib.lines.Line2D at 0x1f6b69c4ef0>]"
      ]
     },
     "execution_count": 62,
     "metadata": {},
     "output_type": "execute_result"
    },
    {
     "data": {
      "image/png": "[encoded data removed]",
      "text/plain": [
       "<matplotlib.figure.Figure at 0x1f6b69c4eb8>"
      ]
     },
     "metadata": {},
     "output_type": "display_data"
    }
   ],
   "source": [
    "plt.plot(y_sec)\n",
    "plt.plot(MV)"
   ]
  },
  {
   "cell_type": "code",
   "execution_count": 163,
   "metadata": {},
   "outputs": [],
   "source": [
    "# second order systems due to beta \n",
    "#note that second order systems arise , either due two first order system in series or parallel\n",
    "# we will consider only series case.  \n",
    "# difference of two first order systems , with two different gains and time constant\n",
    "#http://my.chemeng.queensu.ca/courses/CHEE319/documents/CHEE319_notes_2012_lecture4.pdf\n",
    "#http://www-unix.ecs.umass.edu/~rlaurenc/Courses/ChE446/Second/1Inverse/Inverse1.html\n",
    "\n",
    "def secondorderbeta(u,k,beta,tau1,tau2,dt):\n",
    "    y  = 0\n",
    "    y1=0\n",
    "    y2=0\n",
    "    dydt1 = 0\n",
    "    dydt2 = 0\n",
    "    ys = []\n",
    "    ts = range(len(u))\n",
    "    u_int = interp1d(ts,u)\n",
    "    for t in ts :\n",
    "        if (t-dt ) < 0:\n",
    "            \n",
    "            dydt1 = 0\n",
    "            dydt2 = 0\n",
    "        else:\n",
    "            #dydt1 = (k*u_int(t-dt) - y)/tau1 #driving force 1 , the self regulating factor is y just like a normal first order process\n",
    "            dydt2 = -(5*u_int(t-dt) - y2) /tau2 # there is another driving force that is in opposite direction, for example , this is the \n",
    "            y2 +=  dydt2\n",
    "            dydt1 = (10*u_int(t-dt) - y1)/tau1\n",
    "            y1 +=  dydt1\n",
    "            y += (dydt1+dydt2)\n",
    "            # reboiler to quality dynamics , the quality should initially increase in direction and settle                \n",
    "            \n",
    "            \n",
    "        \n",
    "        ys.append(y)\n",
    "    y_arr = np.array(ys)\n",
    "    return y_arr\n"
   ]
  },
  {
   "cell_type": "code",
   "execution_count": 30,
   "metadata": {},
   "outputs": [],
   "source": [
    "MV1 = np.zeros(1000)\n",
    "MV1[50:200] = 1"
   ]
  },
  {
   "cell_type": "code",
   "execution_count": 164,
   "metadata": {},
   "outputs": [
    {
     "data": {
      "text/plain": [
       "[<matplotlib.lines.Line2D at 0x1f6ba6df8d0>]"
      ]
     },
     "execution_count": 164,
     "metadata": {},
     "output_type": "execute_result"
    },
    {
     "data": {
      "image/png": "[encoded data removed]",
      "text/plain": [
       "<matplotlib.figure.Figure at 0x1f6ba5bd9e8>"
      ]
     },
     "metadata": {},
     "output_type": "display_data"
    }
   ],
   "source": [
    "y_sec_beta = secondorderbeta(MV1,2,-5,20,5,0)\n",
    "plt.plot(y_sec_beta)"
   ]
  },
  {
   "cell_type": "code",
   "execution_count": 97,
   "metadata": {},
   "outputs": [
    {
     "data": {
      "text/plain": [
       "[<matplotlib.lines.Line2D at 0x1f6b7236198>]"
      ]
     },
     "execution_count": 97,
     "metadata": {},
     "output_type": "execute_result"
    },
    {
     "data": {
      "image/png": "[encoded data removed]",
      "text/plain": [
       "<matplotlib.figure.Figure at 0x1f6b701a828>"
      ]
     },
     "metadata": {},
     "output_type": "display_data"
    }
   ],
   "source": []
  },
  {
   "cell_type": "code",
   "execution_count": 80,
   "metadata": {},
   "outputs": [],
   "source": [
    "y_sec = secondorder(MV1,5,0,8,5,0)"
   ]
  },
  {
   "cell_type": "code",
   "execution_count": 81,
   "metadata": {},
   "outputs": [
    {
     "data": {
      "text/plain": [
       "[<matplotlib.lines.Line2D at 0x1f6b6f2a438>]"
      ]
     },
     "execution_count": 81,
     "metadata": {},
     "output_type": "execute_result"
    },
    {
     "data": {
      "image/png": "[encoded data removed]",
      "text/plain": [
       "<matplotlib.figure.Figure at 0x1f6b6e32898>"
      ]
     },
     "metadata": {},
     "output_type": "display_data"
    }
   ],
   "source": [
    "plt.plot(y_sec)"
   ]
  },
  {
   "cell_type": "code",
   "execution_count": 82,
   "metadata": {},
   "outputs": [],
   "source": [
    "# tested for critical damping , under damping and over damping. seems ok "
   ]
  },
  {
   "cell_type": "code",
   "execution_count": 26,
   "metadata": {},
   "outputs": [],
   "source": [
    "# inverese response is caused by two parallel processes , having opposite gain , and the first process has much shorter \n",
    "#settling time than the second process. \n",
    "def secondorder2(u,k1,k2,tau1,tau2,dt):\n",
    "    y=0\n",
    "    y1  = 0\n",
    "    y2 = 0\n",
    "    dy1dt =0\n",
    "    dy2dt = 0\n",
    "    dydt = 0\n",
    "    ys = []\n",
    "    ts = range(len(u))\n",
    "    u_int = interp1d(ts,u)\n",
    "    for t in ts :\n",
    "        if (t-dt ) < 0:\n",
    "            dy1dt = 0\n",
    "            dy2dt =0\n",
    "            dydt = 0\n",
    "        else:\n",
    "            dy1dt = (k1*u_int(t-dt) - y1) /tau1  # driving force for dy1dt\n",
    "            y1 += dy1dt\n",
    "            dy2dt = (k2*u_int(t-dt) - y2) /tau2\n",
    "            y2 += dy2dt\n",
    "        y += (dy1dt+dy2dt)\n",
    "        ys.append(y)\n",
    "    y_arr = np.array(ys)\n",
    "    return y_arr"
   ]
  },
  {
   "cell_type": "code",
   "execution_count": 35,
   "metadata": {},
   "outputs": [],
   "source": [
    "y_sec2 = secondorder2(MV1,-5,10,20,5,0)"
   ]
  },
  {
   "cell_type": "code",
   "execution_count": 36,
   "metadata": {},
   "outputs": [
    {
     "data": {
      "text/plain": [
       "[<matplotlib.lines.Line2D at 0x16a54b811d0>]"
      ]
     },
     "execution_count": 36,
     "metadata": {},
     "output_type": "execute_result"
    },
    {
     "data": {
      "image/png": "[encoded data removed]",
      "text/plain": [
       "<matplotlib.figure.Figure at 0x16a54b810f0>"
      ]
     },
     "metadata": {},
     "output_type": "display_data"
    }
   ],
   "source": [
    "plt.plot(y_sec2)\n",
    "plt.plot(MV1)"
   ]
  },
  {
   "cell_type": "code",
   "execution_count": 37,
   "metadata": {},
   "outputs": [],
   "source": [
    "y_sec2 = secondorder2(MV1,-5,5,20,5,0)"
   ]
  },
  {
   "cell_type": "code",
   "execution_count": 38,
   "metadata": {},
   "outputs": [
    {
     "data": {
      "text/plain": [
       "[<matplotlib.lines.Line2D at 0x16a53895cf8>]"
      ]
     },
     "execution_count": 38,
     "metadata": {},
     "output_type": "execute_result"
    },
    {
     "data": {
      "image/png": "[encoded data removed]",
      "text/plain": [
       "<matplotlib.figure.Figure at 0x16a54b3e860>"
      ]
     },
     "metadata": {},
     "output_type": "display_data"
    }
   ],
   "source": [
    "plt.plot(y_sec2)\n",
    "plt.plot(MV1)"
   ]
  },
  {
   "cell_type": "code",
   "execution_count": 70,
   "metadata": {},
   "outputs": [],
   "source": [
    "from models import models"
   ]
  },
  {
   "cell_type": "code",
   "execution_count": 71,
   "metadata": {},
   "outputs": [],
   "source": [
    "mod = models.FirstOrder(2,10,0)\n"
   ]
  },
  {
   "cell_type": "code",
   "execution_count": 72,
   "metadata": {},
   "outputs": [
    {
     "ename": "TypeError",
     "evalue": "step() takes 0 positional arguments but 1 was given",
     "output_type": "error",
     "traceback": [
      "\u001b[1;31m---------------------------------------------------------------------------\u001b[0m",
      "\u001b[1;31mTypeError\u001b[0m                                 Traceback (most recent call last)",
      "\u001b[1;32m<ipython-input-72-ab1afeb33afd>\u001b[0m in \u001b[0;36m<module>\u001b[1;34m()\u001b[0m\n\u001b[1;32m----> 1\u001b[1;33m \u001b[0mmod\u001b[0m\u001b[1;33m.\u001b[0m\u001b[0mstep\u001b[0m\u001b[1;33m(\u001b[0m\u001b[1;33m)\u001b[0m\u001b[1;33m\u001b[0m\u001b[0m\n\u001b[0m",
      "\u001b[1;31mTypeError\u001b[0m: step() takes 0 positional arguments but 1 was given"
     ]
    }
   ],
   "source": [
    "mod.step()"
   ]
  },
  {
   "cell_type": "code",
   "execution_count": 58,
   "metadata": {},
   "outputs": [
    {
     "data": {
      "text/plain": [
       "[<matplotlib.lines.Line2D at 0x16a54c1a588>]"
      ]
     },
     "execution_count": 58,
     "metadata": {},
     "output_type": "execute_result"
    },
    {
     "data": {
      "image/png": "[encoded data removed]",
      "text/plain": [
       "<matplotlib.figure.Figure at 0x16a53895f60>"
      ]
     },
     "metadata": {},
     "output_type": "display_data"
    }
   ],
   "source": [
    "plt.plot(output)\n",
    "plt.plot(dev_MV)"
   ]
  },
  {
   "cell_type": "code",
   "execution_count": 9,
   "metadata": {},
   "outputs": [],
   "source": [
    "from models import models"
   ]
  },
  {
   "cell_type": "code",
   "execution_count": 10,
   "metadata": {},
   "outputs": [],
   "source": [
    "mod = models.FirstOrder(k=5,tau=10,dt=0)"
   ]
  },
  {
   "cell_type": "code",
   "execution_count": 11,
   "metadata": {},
   "outputs": [
    {
     "ename": "NameError",
     "evalue": "name 'u' is not defined",
     "output_type": "error",
     "traceback": [
      "\u001b[1;31m---------------------------------------------------------------------------\u001b[0m",
      "\u001b[1;31mNameError\u001b[0m                                 Traceback (most recent call last)",
      "\u001b[1;32m<ipython-input-11-e85dde330c34>\u001b[0m in \u001b[0;36m<module>\u001b[1;34m()\u001b[0m\n\u001b[1;32m----> 1\u001b[1;33m \u001b[0mu\u001b[0m\u001b[1;33m\u001b[0m\u001b[0m\n\u001b[0m",
      "\u001b[1;31mNameError\u001b[0m: name 'u' is not defined"
     ]
    }
   ],
   "source": []
  },
  {
   "cell_type": "code",
   "execution_count": null,
   "metadata": {},
   "outputs": [],
   "source": []
  }
 ],
 "metadata": {
  "kernelspec": {
   "display_name": "Python 3",
   "language": "python",
   "name": "python3"
  },
  "language_info": {
   "codemirror_mode": {
    "name": "ipython",
    "version": 3
   },
   "file_extension": ".py",
   "mimetype": "text/x-python",
   "name": "python",
   "nbconvert_exporter": "python",
   "pygments_lexer": "ipython3",
   "version": "3.6.2"
  }
 },
 "nbformat": 4,
 "nbformat_minor": 2
}
